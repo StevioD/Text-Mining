{
 "cells": [
  {
   "cell_type": "markdown",
   "metadata": {},
   "source": [
    "This assignments gives you practice re-arranging text files and dealing with difficult formats. Here's the information from the assignment's README, at least at the moment: \n",
    "\n",
    "---"
   ]
  },
  {
   "cell_type": "markdown",
   "metadata": {},
   "source": [
    "# Assignment: Headline Processing\n",
    "\n",
    "This is an assignment that is eligible for completion against your contract goals. \n",
    "\n",
    "In this assignment, you'll practice reshaping a pretty messy text file. This assignment\n",
    "may end up being a decent amount of work, but assignment 2 will build on this one, so\n",
    "you'll be making an investment in two assignments. \n",
    "\n",
    "## Background\n",
    "\n",
    "In 2015 and 2016 a journalism student at UMT started capturing headlines from six \n",
    "Montana newspapers. In this assignment we'll only work with the headlines from\n",
    "the Missoulian, though you can see all of the raw materials in the Excel file \n",
    "\"Headlines Base Document.xlsx\". \n",
    "\n",
    "The student wished to analyze some of the words used by the different newspapers. But,\n",
    "as you'll see when you look at the file, the data are arranged in a way that makes\n",
    "the headlines hard to work with. In this assignment, you'll re-arrange the data. \n",
    "\n",
    "## Task\n",
    "\n",
    "You'll start with the file `missoula.txt`, which holds a copy-and-paste from the \n",
    "\"Missoulian\" sheet in the Excel file. Your goal is to create a file that looks \n",
    "like the file `missoula_clean.txt`. \n",
    "\n",
    "**Input**: The input file is arranged as a ragged table. The first row holds \n",
    "dates in a DD-MMM format. Note that dates before 01-Jan are from 2015; dates \n",
    "after 01-Jan are from 2016. The rows below a date hold the headlines from that date\n",
    "and you'll notice a varying number of headlines. \n",
    "\n",
    "**Output**: The output file is arranged as a [tidy data set](https://cran.r-project.org/web/packages/tidyr/vignettes/tidy-data.html), \n",
    "with one headline on each row. There are three columns: the newspaper, the date, and the headline. \n",
    "\n",
    "Things to think about: \n",
    "\n",
    "1. You'll need to transform dates in this DD-MMM format into a traditional YYYY-MM-DD, \n",
    "the [one true date format](https://xkcd.com/1179/). \n",
    "1. There's no way to read a file \"vertically\" in Python, so you'll need to be smart\n",
    "about associating a headline with its date. \n"
   ]
  },
  {
   "cell_type": "code",
   "execution_count": 1,
   "metadata": {},
   "outputs": [],
   "source": [
    "import pandas as pd\n",
    "import numpy as np"
   ]
  },
  {
   "cell_type": "code",
   "execution_count": 2,
   "metadata": {},
   "outputs": [
    {
     "name": "stdout",
     "output_type": "stream",
     "text": [
      "23-Sep\t30-Sep\t7-Oct\t14-Oct\t21-Oct\t28-Oct\t4-Nov\t11-Nov\t18-Nov\t25-Nov\t2-Dec\t9-Dec\t16-Dec\t23-Dec\t30-Dec\t6-Jan\t13-Jan\t20-Jan\t27-Jan\t3-Feb\t10-Feb\t17-Feb\t24-Feb\t2-Mar\t9-Mar\t16-Mar\t23-Mar\t30-Mar\t6-Apr\t13-Apr\t20-Apr\t27-Apr\t4-May\t11-May\t18-May\t25-May\t1-Jun\t8-Jun\t15-Jun\t22-Jun\t29-Jun\t6-Jul\t13-Jul\t20-Jul\t27-Jul\t3-Aug\t10-Aug\t17-Aug\t24-Aug\t31-Aug\t7-Sep\t14-Sep\t21-Sep\n",
      "\n",
      "After EWU air raid, Bobcats switch focus to Cal Poly option\tStudent accidentally discharges gun at Tech student housing; no one hurt\tBillings woman suspects antifreeze poisoning killed Knuckles, her English bulldog\t'Two Rivers' takes impressionistic look at Milltown Dam's removal\tBig Sky notebook: Turnover margin a make-or-break component to success\t\t'Tall building lawyers' in court with Carlyle director\tComedy group reunites for sketch-improv show\tBourbon glazed carrots\tBison plan draws comments from around nation, world\t'Curiosities' at Butterfly Herbs print show\tAs leaders fret in Paris, climate-change concerns grow in Montana\tBig Sky XC champion Morley transferring from Griz\tChristmas Eve service to be held at Faith Baptist Church\tGriz hope to celebrate New Year in Flagstaff\tHot-shooting Griz look to continue streak at home\tGriz guards learn lesson in Kansas loss\tFormer Griz Kose to play in NFLPA Bowl this weekend\tBillings woman denies embezzling $36K from Wells Fargo Bank\tGriz defense has them atop Big Sky\tDepleted Lady Griz to battle win-starved Thunderbirds\tFormer Griz Gregory signs with Australian club\tLady Griz eye 6th straight win\tFighting Hawks soar past Lady Griz\tBe Wary of Imported Supplements: FDA\tCoach Selvig reflects on 31st 20-win season, job that keeps on giving\tHigh turnover yields wide-open receiver competitions for Griz\tGriz prepare for first spring scrimmage at 7 p.m. Thursday\tAdvocates push state to extend age limit for students with disabilities\tExpectations high for Montana's seasoned offensive line\tMontana golf finishes tied for 8th at Big Sky tournament\t3 Griz named to Hampshire Honor Society\tBillings birthday brawl at pizzeria ends with one woman hospitalized, another arrested\tGriz face Southern Utah to open first Big Sky softball tourney\tMontana volleyball finalizes fall 2016 schedule\t'Fat Shaming' Begins in First Grade\tBullock meets with Colstrip leaders about its energy future\tFormer Griz Wagenmann again injures foot in NFL camp\tBig Sky preseason poll, all-conference team: Why I voted the way I did\tBillings man sentenced to 5 years incarceration after using position of power to abuse teen girl\tGriz football opens season with night game; kickoff scheduling complicated by TV\tChicago O'Hare International Airport (ORD)\tGriz softball adds Gomez as graduate assistant\tBackpacks that stand out\tCards place Wagenmann on PUP list\tFormer Griz WR Jamaal Jones injured, waived by Chargers\tDT Davidson brings size, strength to Griz line\tKalispell product Petrino joins Lady Griz coaching staff\tCoaches rank Griz soccer 10th in Pacific region\tGreen Griz defense looking for quick start vs. Red Flash offense\tAfter EWU air raid, Bobcats switch focus to Cal Poly option\tStudent accidentally discharges gun at Tech student housing; no one hurt\tBillings woman suspects antifreeze poisoning killed Knuckles, her English bulldog\n",
      "\n",
      "Alternative art gallery FrontierSpace to hold annual art auction\tYouth detention facility at Galen will close, not relocate\tCorvallis woman arrested for fleeing Missoula police on bike, possessing meth\tBillings man accused of killing neighbor: 'It's Halloween. We're just having some fun' after shooting\tCar chase along Flathead Lake ends in arrest\tArtist Isabelle Johnson bucked tradition, introduced modernism to students\t2 Billings City Council incumbents lose to challengers; Cromley keeps seat\tDeputy shoots driver during traffic stop near Dillon\tBullock noncommittal on opening Superfund talks\tCold nights, cautious travel in forecast for northwestern Montana\t'Legroom'\t\tGlacier's Bennett understands what Gregorak is going through\t\tLady Griz look to usher in 2016 in style\tYoung Vikings to test Lady Griz\tSurging Bears to test Lady Griz\tGriz add two JuCo transfers to defensive haul\tCeramic artist Doug Baldwin to talk about his life, work\tLady Griz hungry for victory\tGriz adopt playoff mindset with tournament looming\tGrizzlies' Champions Center construction set for April\tMontana's tough road trip will test Oguine\tAugusta-area man says he feared for life when he shot, killed neighbor\tBig Sky women: Idaho State stuns Montana State on last-second shot\tNevada erases halftime deficit, ends Grizzlies' season\tThe Most Outdoorsy Jobs\tKicking, punting competitions open and even this spring for Griz\tAmerica's 50 favorite dog breeds\tMontana State to pay O'Neill's canceled $28,000 speaking fee\tMontana women's athletic programs lead way in APR\tCollege softball: Stensby pitches another gem as Griz sweep Argonauts\tBillings sergeant on paid leave since February resigns\tGriz track and field: McLeod posts 3 personal bests in 1st day of heptathlon\t21-year-old man stabbed to death Wednesday in Lame Deer\t\tBurn rate\tBus passenger arrested in Billings with marijuana in luggage\tFormer Griz guard Gregory signs to play in Holland\tBritney Spears' gum\tStewart promoted to assistant, completing DeCuire's staff\tConfirmed microcephaly cases in Brazil\tBillings Animal Rescue Kare supports protest over sentence in dog death case\tBackpacks with your kids' favorite characters\tFor Selvig, success came at a price\tGriz see strength in revamped D-line\tGriz mine Thompson Falls' 'diamond in the rough'\tStitt: Chalich, Phillips remain too close to call in battle for backup QB\tInjuries have Griz still sorting through options at receiver\tGriz goalkeeper Kailey Norman named Big Sky Defensive Player of the Week\tAlternative art gallery FrontierSpace to hold annual art auction\tYouth detention facility at Galen will close, not relocate\tCorvallis woman arrested for fleeing Missoula police on bike, possessing meth\n",
      "\n",
      "Does state gets passing grade for education funding? Group aims to find out\tGiant Geyser, 2nd largest in Yellowstone, erupts in rare display\tDistemper in dog temporarily closes Helena animal shelter; stray cats accepted by appointment\tBillings vet receives keys to new family home\tChess tournament planned in Kalispell\tBillings Clinic increases security after shooting, does not blame officers\tAround the Big Sky\tDramatic dashcam footage: 3 close calls, woman ejected from vehicle\tClass AA All-State volleyball: Big Sky's Gragg, Sentinel's Godwin make first team\tEngesser scores 25; Denver beats Idaho State 79-69\t'Lolo' subject of Travelers' Rest Chapter presentation\tBillings man accused of attempting to steal alcohol from bar\tGriz sign 2 transfers for spring football\tLow commodity prices create anxiety in southwest Montana, worldwide\tBernie Sanders takes on Trump in Iowa campaign stop\tCity Club Missoula discusses development office\tBarry Beach throws party for Billings supporters\tLady Griz begin big road swing\tDivorcing husband wary of wife's online deception\tMontana signing Class of 2016 bios\tBig Sky commissioner Doug Fullerton to retire in June\tBig Sky Film Fest: Lucy Walker discusses new VR documentary\tWestern A boys' basketball: Columbia Falls outlasts Corvallis in OT\tCareers with the Highest Projected Employment Growth\tBrain Bleed Risk From Warfarin May Be Higher Than Thought\t'Stuttering comedian' Nina G to give performance, 'Going Beyond Inspirational'\tBelgian MSUB basketball player to friends, family: ?Don?t jeopardize your freedom just because you?re scared?\tMontana men's basketball: Bradshaw will transfer for senior season\tAmerica: A carb-loving nation\tNew UM football helmet to feature clawing-out Grizzly\tShifty Z receivers add new element to Griz offense\tHolmes leads Griz group awaiting draft fate\tDebt Free Degrees proposal\t\tADHD Can First Appear in Young Adulthood for Some, Study Suggests\t2 New Findings Offer Hope for Those With Severe Hemophilia\tButte counselor, campaign treasurer faces felony drug charges\tCancer's Heavy Financial Burden\tWa-Griz Champions Center: 'It's on its way'\tBritney Spears' pregnancy test\tB Mavs to host Firecracker tournament\tDallas/Fort Worth International Airport (DFW)\tBillings' St. Vincent Healthcare to lay off 49, close employee day care\tBig Timber wind farm in jeopardy\tLady Griz coach Robin Selvig retires after 38 years\tBoyfriend fights woman's effort to end her 10-year obsession\tShannon Schweyen officially named next Lady Griz coach\tAttorney General Tim Fox wants to hear from victims\tCommunity meeting set for tonight on Copper King fire\tGriz release first fall football depth chart\tDoes state gets passing grade for education funding? Group aims to find out\tGiant Geyser, 2nd largest in Yellowstone, erupts in rare display\tDistemper in dog temporarily closes Helena animal shelter; stray cats accepted by appointment\n",
      "\n"
     ]
    }
   ],
   "source": [
    "# Your code will go here, but I'll start you off by reading in the file and looking at the first few rows of data\n",
    "with open(\"missoula.txt\",'r', encoding = \"ISO-8859-1\") as infile :\n",
    "    for idx, row in enumerate(infile.readlines()):\n",
    "        print(row)\n",
    "        if idx > 2 :\n",
    "            break"
   ]
  },
  {
   "cell_type": "code",
   "execution_count": 7,
   "metadata": {},
   "outputs": [],
   "source": [
    "textlist = []\n",
    "with open(\"missoula.txt\",'r', encoding = \"ISO-8859-1\") as infile :\n",
    "    textlist = infile.readlines()"
   ]
  },
  {
   "cell_type": "code",
   "execution_count": 8,
   "metadata": {},
   "outputs": [],
   "source": [
    "dates = textlist[0]"
   ]
  },
  {
   "cell_type": "code",
   "execution_count": 9,
   "metadata": {},
   "outputs": [],
   "source": [
    "datelist = dates.split()"
   ]
  },
  {
   "cell_type": "code",
   "execution_count": 10,
   "metadata": {},
   "outputs": [
    {
     "data": {
      "text/plain": [
       "14"
      ]
     },
     "execution_count": 10,
     "metadata": {},
     "output_type": "execute_result"
    }
   ],
   "source": [
    "datelist.index('30-Dec')"
   ]
  },
  {
   "cell_type": "code",
   "execution_count": 11,
   "metadata": {},
   "outputs": [],
   "source": [
    "dates2015 = datelist[0:15]"
   ]
  },
  {
   "cell_type": "code",
   "execution_count": 12,
   "metadata": {},
   "outputs": [],
   "source": [
    "dates2016 = datelist[15:]"
   ]
  },
  {
   "cell_type": "code",
   "execution_count": 13,
   "metadata": {},
   "outputs": [],
   "source": [
    "dates2015 = [date + \"-2015\" for date in dates2015]"
   ]
  },
  {
   "cell_type": "code",
   "execution_count": 14,
   "metadata": {},
   "outputs": [],
   "source": [
    "dates2016 = [date + \"-2016\" for date in dates2016]"
   ]
  },
  {
   "cell_type": "code",
   "execution_count": 15,
   "metadata": {},
   "outputs": [],
   "source": [
    "alldates = dates2015 + dates2016"
   ]
  },
  {
   "cell_type": "code",
   "execution_count": 16,
   "metadata": {},
   "outputs": [],
   "source": [
    "MonthDict = {'Jan': '01', 'Feb': '02', 'Mar': '03', 'Apr': '04', 'May': '05', 'Jun': '06', 'Jul': '07', 'Aug': '08', 'Sep': '09', 'Oct': '10', 'Nov': '11', 'Dec': '12'}"
   ]
  },
  {
   "cell_type": "code",
   "execution_count": 17,
   "metadata": {},
   "outputs": [],
   "source": [
    "for date, month in enumerate(alldates):\n",
    "    for key in MonthDict:\n",
    "        if key in month:\n",
    "            alldates[date]=month.replace(key, MonthDict[key])"
   ]
  },
  {
   "cell_type": "code",
   "execution_count": 18,
   "metadata": {},
   "outputs": [],
   "source": [
    "alldates = [sub.replace('-', '/') for sub in alldates]"
   ]
  },
  {
   "cell_type": "code",
   "execution_count": 19,
   "metadata": {},
   "outputs": [],
   "source": [
    "from datetime import datetime\n",
    "alldates = [datetime.strptime(x,'%d/%m/%Y') for x in alldates]"
   ]
  },
  {
   "cell_type": "code",
   "execution_count": 20,
   "metadata": {},
   "outputs": [],
   "source": [
    "alldates = [x.strftime('%Y/%m/%d') for x in alldates]"
   ]
  },
  {
   "cell_type": "code",
   "execution_count": 21,
   "metadata": {},
   "outputs": [],
   "source": [
    "Mydict = dict.fromkeys(alldates)"
   ]
  },
  {
   "cell_type": "code",
   "execution_count": 22,
   "metadata": {},
   "outputs": [],
   "source": [
    "for i in alldates:\n",
    "    Mydict[i] = []"
   ]
  },
  {
   "cell_type": "code",
   "execution_count": 23,
   "metadata": {},
   "outputs": [
    {
     "data": {
      "text/plain": [
       "74"
      ]
     },
     "execution_count": 23,
     "metadata": {},
     "output_type": "execute_result"
    }
   ],
   "source": [
    "len(textlist)"
   ]
  },
  {
   "cell_type": "code",
   "execution_count": 24,
   "metadata": {},
   "outputs": [],
   "source": [
    "textlist = [[item.split('\\t')] for item in textlist[1:]]"
   ]
  },
  {
   "cell_type": "code",
   "execution_count": 25,
   "metadata": {},
   "outputs": [],
   "source": [
    "x=0\n",
    "y=0\n",
    "\n",
    "for z, p in enumerate(textlist):\n",
    "    for headline in p[0]:\n",
    "        if x == 53:\n",
    "            x=0\n",
    "            y += 1\n",
    "            if y == 74:\n",
    "                break\n",
    "        else:\n",
    "            Mydict[alldates[x]].append(textlist[y][0][x])\n",
    "            x += 1"
   ]
  },
  {
   "cell_type": "code",
   "execution_count": 26,
   "metadata": {},
   "outputs": [],
   "source": [
    "headline_processing_df = pd.DataFrame(Mydict.items(), columns=['Date', 'Headline'])"
   ]
  },
  {
   "cell_type": "code",
   "execution_count": 27,
   "metadata": {},
   "outputs": [],
   "source": [
    "headline_processing_df['Paper'] = 'Missoulian'"
   ]
  },
  {
   "cell_type": "code",
   "execution_count": 28,
   "metadata": {},
   "outputs": [],
   "source": [
    "paper = headline_processing_df.pop('Paper')\n",
    "headline_processing_df.insert(0, 'Paper', paper)"
   ]
  },
  {
   "cell_type": "code",
   "execution_count": 29,
   "metadata": {},
   "outputs": [],
   "source": [
    "headline_processing_df = headline_processing_df.explode('Headline').reset_index(drop=True)"
   ]
  },
  {
   "cell_type": "code",
   "execution_count": 30,
   "metadata": {},
   "outputs": [
    {
     "data": {
      "text/plain": [
       "Paper       0\n",
       "Date        0\n",
       "Headline    0\n",
       "dtype: int64"
      ]
     },
     "execution_count": 30,
     "metadata": {},
     "output_type": "execute_result"
    }
   ],
   "source": [
    "headline_processing_df.isnull().sum()"
   ]
  },
  {
   "cell_type": "code",
   "execution_count": 31,
   "metadata": {},
   "outputs": [],
   "source": [
    "headline_processing_df['Headline'].replace('', np.nan, inplace=True)"
   ]
  },
  {
   "cell_type": "code",
   "execution_count": 32,
   "metadata": {},
   "outputs": [],
   "source": [
    "headline_processing_df['Headline'].replace('\\n', np.nan, inplace=True)"
   ]
  },
  {
   "cell_type": "code",
   "execution_count": 33,
   "metadata": {},
   "outputs": [],
   "source": [
    "headline_processing_df.dropna(subset=['Headline'], inplace=True)"
   ]
  },
  {
   "cell_type": "code",
   "execution_count": 34,
   "metadata": {},
   "outputs": [
    {
     "data": {
      "text/html": [
       "<div>\n",
       "<style scoped>\n",
       "    .dataframe tbody tr th:only-of-type {\n",
       "        vertical-align: middle;\n",
       "    }\n",
       "\n",
       "    .dataframe tbody tr th {\n",
       "        vertical-align: top;\n",
       "    }\n",
       "\n",
       "    .dataframe thead th {\n",
       "        text-align: right;\n",
       "    }\n",
       "</style>\n",
       "<table border=\"1\" class=\"dataframe\">\n",
       "  <thead>\n",
       "    <tr style=\"text-align: right;\">\n",
       "      <th></th>\n",
       "      <th>Paper</th>\n",
       "      <th>Date</th>\n",
       "      <th>Headline</th>\n",
       "    </tr>\n",
       "  </thead>\n",
       "  <tbody>\n",
       "    <tr>\n",
       "      <th>0</th>\n",
       "      <td>Missoulian</td>\n",
       "      <td>2015/09/23</td>\n",
       "      <td>After EWU air raid, Bobcats switch focus to Ca...</td>\n",
       "    </tr>\n",
       "    <tr>\n",
       "      <th>1</th>\n",
       "      <td>Missoulian</td>\n",
       "      <td>2015/09/23</td>\n",
       "      <td>Alternative art gallery FrontierSpace to hold ...</td>\n",
       "    </tr>\n",
       "    <tr>\n",
       "      <th>2</th>\n",
       "      <td>Missoulian</td>\n",
       "      <td>2015/09/23</td>\n",
       "      <td>Does state gets passing grade for education fu...</td>\n",
       "    </tr>\n",
       "    <tr>\n",
       "      <th>3</th>\n",
       "      <td>Missoulian</td>\n",
       "      <td>2015/09/23</td>\n",
       "      <td>Fall films have issues</td>\n",
       "    </tr>\n",
       "    <tr>\n",
       "      <th>4</th>\n",
       "      <td>Missoulian</td>\n",
       "      <td>2015/09/23</td>\n",
       "      <td>Family in need after Bonner fire destroyed hom...</td>\n",
       "    </tr>\n",
       "    <tr>\n",
       "      <th>...</th>\n",
       "      <td>...</td>\n",
       "      <td>...</td>\n",
       "      <td>...</td>\n",
       "    </tr>\n",
       "    <tr>\n",
       "      <th>3741</th>\n",
       "      <td>Missoulian</td>\n",
       "      <td>2016/09/21</td>\n",
       "      <td>Prep Athletes of the Week for Oct. 9\\n</td>\n",
       "    </tr>\n",
       "    <tr>\n",
       "      <th>3742</th>\n",
       "      <td>Missoulian</td>\n",
       "      <td>2016/09/21</td>\n",
       "      <td>Rand Paul to be in Davenport next Tuesday\\n</td>\n",
       "    </tr>\n",
       "    <tr>\n",
       "      <th>3743</th>\n",
       "      <td>Missoulian</td>\n",
       "      <td>2016/09/21</td>\n",
       "      <td>Santorum touts hardline immigration enforcemen...</td>\n",
       "    </tr>\n",
       "    <tr>\n",
       "      <th>3744</th>\n",
       "      <td>Missoulian</td>\n",
       "      <td>2016/09/21</td>\n",
       "      <td>Team Trump Montana not getting much support fr...</td>\n",
       "    </tr>\n",
       "    <tr>\n",
       "      <th>3745</th>\n",
       "      <td>Missoulian</td>\n",
       "      <td>2016/09/21</td>\n",
       "      <td>Trump draws fans out on campaign stop in Water...</td>\n",
       "    </tr>\n",
       "  </tbody>\n",
       "</table>\n",
       "<p>1212 rows × 3 columns</p>\n",
       "</div>"
      ],
      "text/plain": [
       "           Paper        Date  \\\n",
       "0     Missoulian  2015/09/23   \n",
       "1     Missoulian  2015/09/23   \n",
       "2     Missoulian  2015/09/23   \n",
       "3     Missoulian  2015/09/23   \n",
       "4     Missoulian  2015/09/23   \n",
       "...          ...         ...   \n",
       "3741  Missoulian  2016/09/21   \n",
       "3742  Missoulian  2016/09/21   \n",
       "3743  Missoulian  2016/09/21   \n",
       "3744  Missoulian  2016/09/21   \n",
       "3745  Missoulian  2016/09/21   \n",
       "\n",
       "                                               Headline  \n",
       "0     After EWU air raid, Bobcats switch focus to Ca...  \n",
       "1     Alternative art gallery FrontierSpace to hold ...  \n",
       "2     Does state gets passing grade for education fu...  \n",
       "3                                Fall films have issues  \n",
       "4     Family in need after Bonner fire destroyed hom...  \n",
       "...                                                 ...  \n",
       "3741             Prep Athletes of the Week for Oct. 9\\n  \n",
       "3742        Rand Paul to be in Davenport next Tuesday\\n  \n",
       "3743  Santorum touts hardline immigration enforcemen...  \n",
       "3744  Team Trump Montana not getting much support fr...  \n",
       "3745  Trump draws fans out on campaign stop in Water...  \n",
       "\n",
       "[1212 rows x 3 columns]"
      ]
     },
     "execution_count": 34,
     "metadata": {},
     "output_type": "execute_result"
    }
   ],
   "source": [
    "headline_processing_df"
   ]
  },
  {
   "cell_type": "code",
   "execution_count": null,
   "metadata": {},
   "outputs": [],
   "source": []
  }
 ],
 "metadata": {
  "kernelspec": {
   "display_name": "Python 3",
   "language": "python",
   "name": "python3"
  },
  "language_info": {
   "codemirror_mode": {
    "name": "ipython",
    "version": 3
   },
   "file_extension": ".py",
   "mimetype": "text/x-python",
   "name": "python",
   "nbconvert_exporter": "python",
   "pygments_lexer": "ipython3",
   "version": "3.8.5"
  }
 },
 "nbformat": 4,
 "nbformat_minor": 4
}
