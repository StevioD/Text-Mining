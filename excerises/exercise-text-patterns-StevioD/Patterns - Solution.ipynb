{
 "cells": [
  {
   "cell_type": "code",
   "execution_count": 15,
   "metadata": {},
   "outputs": [
    {
     "name": "stdout",
     "output_type": "stream",
     "text": [
      "showing info https://raw.githubusercontent.com/nltk/nltk_data/gh-pages/index.xml\n"
     ]
    },
    {
     "data": {
      "text/plain": [
       "True"
      ]
     },
     "execution_count": 15,
     "metadata": {},
     "output_type": "execute_result"
    }
   ],
   "source": [
    "nltk.download()"
   ]
  },
  {
   "cell_type": "markdown",
   "metadata": {},
   "source": [
    "Let's calculate some basic statistics regarding a body of text. We'll start with reading Beowulf from a text file, since that's a common use case when you're working with text data. "
   ]
  },
  {
   "cell_type": "code",
   "execution_count": 1,
   "metadata": {},
   "outputs": [],
   "source": [
    "import nltk\n",
    "import numpy as np\n",
    "\n",
    "#from nltk.book import *\n",
    "from nltk.corpus import gutenberg\n",
    "from string import punctuation\n",
    "from collections import Counter\n",
    "from nltk.corpus import brown\n",
    "from nltk import FreqDist\n",
    "\n",
    "from pprint import pprint # get some prettier printing of objects\n",
    "\n",
    "from nltk.corpus import stopwords\n",
    "\n",
    "sw = stopwords.words('english')"
   ]
  },
  {
   "cell_type": "code",
   "execution_count": 2,
   "metadata": {},
   "outputs": [],
   "source": [
    "beowulf = open(\"beowulf.txt\",'r').read()"
   ]
  },
  {
   "cell_type": "markdown",
   "metadata": {},
   "source": [
    "As always, we start with tokenization and normalization. Create a new variable, `beo_clean` that splits on whitespace, casts to lowercase, removes any tokens where `isalpha` is false, and removes stopwords."
   ]
  },
  {
   "cell_type": "code",
   "execution_count": 3,
   "metadata": {},
   "outputs": [],
   "source": [
    "beo_clean = [w for w in beowulf.split()]\n",
    "beo_clean = [w.lower() for w in beo_clean if w.isalpha() and w not in sw]"
   ]
  },
  {
   "cell_type": "markdown",
   "metadata": {},
   "source": [
    "Let's rip through the basic statistics: \n",
    "\n",
    "1. Overall text length (number of tokens)\n",
    "1. Number of unique tokens\n",
    "1. Lexical diversity \n",
    "1. Average token length\n",
    "1. Distribution of token lengths"
   ]
  },
  {
   "cell_type": "code",
   "execution_count": 5,
   "metadata": {},
   "outputs": [
    {
     "name": "stdout",
     "output_type": "stream",
     "text": [
      "Beowulf is 10146 tokens long.\n",
      "Beowulf has 3033 unique tokens.\n",
      "Beowulf's lexical diversity is 0.299.\n",
      "Beowulf's average token length is 5.14.\n",
      "[(1, 205),\n",
      " (2, 251),\n",
      " (3, 1135),\n",
      " (4, 2719),\n",
      " (5, 2053),\n",
      " (6, 1540),\n",
      " (7, 1060),\n",
      " (8, 725),\n",
      " (9, 285),\n",
      " (10, 100),\n",
      " (11, 51),\n",
      " (12, 16),\n",
      " (13, 3),\n",
      " (14, 1),\n",
      " (15, 2)]\n",
      "\n",
      "All statistics are calculated after normalization and tokenization.\n"
     ]
    }
   ],
   "source": [
    "print(f\"Beowulf is {len(beo_clean)} tokens long.\")\n",
    "print(f\"Beowulf has {len(set(beo_clean))} unique tokens.\")\n",
    "\n",
    "print(f\"Beowulf's lexical diversity is {len(set(beo_clean))/len(beo_clean):.3f}.\")\n",
    "\n",
    "# Build a vector of token length\n",
    "beo_token_len = [len(w) for w in beo_clean]\n",
    "\n",
    "print(f\"Beowulf's average token length is {np.mean(beo_token_len):.2f}.\")\n",
    "\n",
    "pprint(sorted(Counter(beo_token_len).items()))\n",
    "\n",
    "print(\"\")\n",
    "print(\"All statistics are calculated after normalization and tokenization.\")\n"
   ]
  },
  {
   "cell_type": "markdown",
   "metadata": {},
   "source": [
    "### Frequency Distributions\n",
    "\n",
    "Frequency distributions are *incredibly* useful early in a text analysis. Let's build one for `beo_clean` and look at the 30 most common tokens"
   ]
  },
  {
   "cell_type": "code",
   "execution_count": 6,
   "metadata": {},
   "outputs": [
    {
     "data": {
      "text/plain": [
       "[('i', 167),\n",
       " ('the', 111),\n",
       " ('beowulf', 58),\n",
       " ('men', 56),\n",
       " ('then', 53),\n",
       " ('shall', 48),\n",
       " ('son', 47),\n",
       " ('thou', 47),\n",
       " ('king', 46),\n",
       " ('lord', 45),\n",
       " ('one', 45),\n",
       " ('many', 44),\n",
       " ('thy', 44),\n",
       " ('could', 43),\n",
       " ('though', 43),\n",
       " ('folk', 40),\n",
       " ('far', 36),\n",
       " ('ever', 35),\n",
       " ('old', 35),\n",
       " ('till', 34),\n",
       " ('would', 34),\n",
       " ('but', 33),\n",
       " ('hrothgar', 32),\n",
       " ('life', 32),\n",
       " ('man', 31),\n",
       " ('yet', 31),\n",
       " ('well', 30),\n",
       " ('might', 30),\n",
       " ('hardy', 30),\n",
       " ('long', 29)]"
      ]
     },
     "execution_count": 6,
     "metadata": {},
     "output_type": "execute_result"
    }
   ],
   "source": [
    "beo_fd = FreqDist(beo_clean)\n",
    "\n",
    "beo_fd.most_common(30)"
   ]
  },
  {
   "cell_type": "markdown",
   "metadata": {},
   "source": [
    "How many tokens have a count of 1 and what fraction do they represent? These are also called \"hapaxes\"."
   ]
  },
  {
   "cell_type": "code",
   "execution_count": 7,
   "metadata": {},
   "outputs": [
    {
     "name": "stdout",
     "output_type": "stream",
     "text": [
      "1589\n"
     ]
    }
   ],
   "source": [
    "single_use = []\n",
    "\n",
    "for token, cnt in beo_fd.items() :\n",
    "    if cnt == 1 :\n",
    "        single_use.append(token)\n",
    "        \n",
    "        \n",
    "print(len(single_use))"
   ]
  },
  {
   "cell_type": "code",
   "execution_count": 8,
   "metadata": {},
   "outputs": [
    {
     "data": {
      "text/plain": [
       "['anonymous',\n",
       " 'translated',\n",
       " 'gummere',\n",
       " 'prelude',\n",
       " 'founder',\n",
       " 'scefing',\n",
       " 'squadroned',\n",
       " 'awing',\n",
       " 'feeling',\n",
       " 'lacked',\n",
       " 'endowed',\n",
       " 'scandian',\n",
       " 'becomes',\n",
       " 'quit',\n",
       " 'charged',\n",
       " 'roadstead',\n",
       " 'rocked',\n",
       " 'fetched',\n",
       " 'freighted',\n",
       " 'floating']"
      ]
     },
     "execution_count": 8,
     "metadata": {},
     "output_type": "execute_result"
    }
   ],
   "source": [
    "single_use[:20]"
   ]
  },
  {
   "cell_type": "code",
   "execution_count": 9,
   "metadata": {},
   "outputs": [
    {
     "data": {
      "text/plain": [
       "0.5239037256841411"
      ]
     },
     "execution_count": 9,
     "metadata": {},
     "output_type": "execute_result"
    }
   ],
   "source": [
    "len(single_use)/len(beo_fd)"
   ]
  },
  {
   "cell_type": "markdown",
   "metadata": {},
   "source": [
    "Interesting, about half the words only appear once. \n",
    "\n",
    "Frequency distribution objects come along with a plot method that can be quite useful. Plot the first 25 tokens (example is at the end section 3.1 of [chapter 1 of the NLTK book](https://www.nltk.org/book/ch01.html). "
   ]
  },
  {
   "cell_type": "code",
   "execution_count": 10,
   "metadata": {},
   "outputs": [
    {
     "data": {
      "image/png": "[encoded data removed]",
      "text/plain": [
       "<Figure size 432x288 with 1 Axes>"
      ]
     },
     "metadata": {
      "needs_background": "light"
     },
     "output_type": "display_data"
    },
    {
     "data": {
      "text/plain": [
       "<AxesSubplot:xlabel='Samples', ylabel='Cumulative Counts'>"
      ]
     },
     "execution_count": 10,
     "metadata": {},
     "output_type": "execute_result"
    }
   ],
   "source": [
    "beo_fd.plot(25, cumulative=True)"
   ]
  },
  {
   "cell_type": "markdown",
   "metadata": {},
   "source": [
    "There are a number of useful methods available for the `FreqDist` object. They're summarized in [this table](https://www.nltk.org/book/ch01.html#tab-freqdist) in NLTK Chapter 1.\n",
    "\n",
    "\n",
    "Not many words are longer than 12 characters. Let's take a look at them. "
   ]
  },
  {
   "cell_type": "code",
   "execution_count": 11,
   "metadata": {},
   "outputs": [
    {
     "name": "stdout",
     "output_type": "stream",
     "text": [
      "breastplates\n",
      "slaughtering\n",
      "unsuccessful\n",
      "slaughterous\n",
      "withstanding\n",
      "representative\n",
      "representations\n",
      "personification\n",
      "inconsistency\n",
      "nevertheless\n",
      "subsequently\n",
      "affectionate\n",
      "statesmanlike\n",
      "interpolation\n",
      "illustration\n",
      "scandinavian\n",
      "propitiation\n",
      "illustrating\n",
      "interference\n"
     ]
    }
   ],
   "source": [
    "for word in beo_fd :\n",
    "    if len(word) >= 12 :\n",
    "        print(word)\n",
    "        "
   ]
  },
  {
   "cell_type": "markdown",
   "metadata": {},
   "source": [
    "### NLTK Functions\n",
    "\n",
    "The NLKT library comes with a number of helpful functions. In order to take advantage of those, you'll need to run your list of tokens through `nltk.Text`. "
   ]
  },
  {
   "cell_type": "code",
   "execution_count": 12,
   "metadata": {},
   "outputs": [],
   "source": [
    "beo_nltk = nltk.Text(beo_clean)"
   ]
  },
  {
   "cell_type": "markdown",
   "metadata": {},
   "source": [
    "### Concordance\n",
    "\n",
    "Concordances give you words in context. Let's look at usages of \"hrothgar\", the [Danish king](https://en.wikipedia.org/wiki/Hrothgar) featured in the book.  "
   ]
  },
  {
   "cell_type": "code",
   "execution_count": 13,
   "metadata": {},
   "outputs": [
    {
     "name": "stdout",
     "output_type": "stream",
     "text": [
      "Displaying 25 of 32 matches:\n",
      "children halga i heard helpmate to hrothgar given glory honor kin obeyed gladl\n",
      "ghts shows terrific rage hatred to hrothgar i greatness soul would succor may \n",
      "all broad gable bright folk houses hrothgar gleam lightened lands the sturdy s\n",
      "met i strangers mood plain plunged hrothgar ye him bespake proud earl weders a\n",
      "ughty monarch may deign hied haste hrothgar sat earls till stout thane stood s\n",
      "thy leader hero hither henchmen vi hrothgar helmet knew yore youthful aged fat\n",
      "ther waves ye may wend way helmets hrothgar let bide wooden wait uprose mighty\n",
      "irloom hrethel work fares wyrd vii hrothgar fight friend succor thou hast soug\n",
      "striding wan the warriors man made hrothgar bade let wield wine word man erst \n",
      "ail thee thou bidest battle x then hrothgar went forth fain would wealhtheow c\n",
      "ill gladly flashing not first home hrothgar yet late hardy to house warrior wa\n",
      "en crowd maidens measured path xiv hrothgar hall stood steep roof garnished si\n",
      "eceived many kinsmen sat sumptuous hrothgar heorot filled folk scyldings yet t\n",
      "ew destiny doom seen many earl eve hrothgar homeward hasten the room guarded a\n",
      "ingle atheling seized fast fled he hrothgar heroes trusty vassals betwixt kill\n",
      "se old asked night passed peace xx hrothgar pain renewed danish dead yrmenlaf \n",
      "y woes leaped god mighty brave for hrothgar soon horse saddled the sovran wise\n",
      " path trod murky bore bravest best hrothgar homestead on went steep strait nar\n",
      "war seize goodly gifts thou gavest hrothgar hygelac king may ken son stares i \n",
      "n sovran thane fearless fame hardy hrothgar and next hair hall borne henchmen \n",
      "r best oceans bound scattered gold hrothgar spake hilt heirloom etched rise fi\n",
      "ling the doughty atheling hastened hrothgar xxvi beowulf bairn seafarers say f\n",
      "y find a land man visit vaunts him hrothgar words thine wisest god sent thy no\n",
      "ee yonder battle seek briny combat hrothgar couldst thou aid honored with wave\n",
      "some race fleshly but first i went hrothgar greet hall kinsman soon purpose pl\n"
     ]
    }
   ],
   "source": [
    "beo_nltk.concordance(\"hrothgar\")"
   ]
  },
  {
   "cell_type": "markdown",
   "metadata": {},
   "source": [
    "You'd need to know more Beowulf than I do to appreciate these words. Let's look at the example from the NLTK book, comparing the usage of \"monstrous\" between _Moby Dick_ and _Sense and Sensibility_. "
   ]
  },
  {
   "cell_type": "code",
   "execution_count": 14,
   "metadata": {},
   "outputs": [
    {
     "ename": "NameError",
     "evalue": "name 'text1' is not defined",
     "output_type": "error",
     "traceback": [
      "\u001b[0;31m---------------------------------------------------------------------------\u001b[0m",
      "\u001b[0;31mNameError\u001b[0m                                 Traceback (most recent call last)",
      "\u001b[0;32m<ipython-input-14-94ebe091f671>\u001b[0m in \u001b[0;36m<module>\u001b[0;34m\u001b[0m\n\u001b[0;32m----> 1\u001b[0;31m \u001b[0mtext1\u001b[0m\u001b[0;34m.\u001b[0m\u001b[0mconcordance\u001b[0m\u001b[0;34m(\u001b[0m\u001b[0;34m\"monstrous\"\u001b[0m\u001b[0;34m)\u001b[0m\u001b[0;34m\u001b[0m\u001b[0;34m\u001b[0m\u001b[0m\n\u001b[0m",
      "\u001b[0;31mNameError\u001b[0m: name 'text1' is not defined"
     ]
    }
   ],
   "source": [
    "text1.concordance(\"monstrous\")"
   ]
  },
  {
   "cell_type": "code",
   "execution_count": null,
   "metadata": {},
   "outputs": [],
   "source": [
    "text2.concordance(\"monstrous\")"
   ]
  },
  {
   "cell_type": "markdown",
   "metadata": {},
   "source": [
    "As you can see, Austen uses the word in _Sense and Sensibility_ in a different way from our modern usage. \n",
    "\n",
    "Related to concordances is the concept of similarity. "
   ]
  },
  {
   "cell_type": "code",
   "execution_count": 20,
   "metadata": {},
   "outputs": [
    {
     "name": "stdout",
     "output_type": "stream",
     "text": [
      "beowulf booty sword shalt\n"
     ]
    }
   ],
   "source": [
    "beo_nltk.similar(\"son\")"
   ]
  },
  {
   "cell_type": "code",
   "execution_count": 21,
   "metadata": {},
   "outputs": [
    {
     "ename": "NameError",
     "evalue": "name 'text1' is not defined",
     "output_type": "error",
     "traceback": [
      "\u001b[0;31m---------------------------------------------------------------------------\u001b[0m",
      "\u001b[0;31mNameError\u001b[0m                                 Traceback (most recent call last)",
      "\u001b[0;32m<ipython-input-21-05e2df0dc02f>\u001b[0m in \u001b[0;36m<module>\u001b[0;34m\u001b[0m\n\u001b[0;32m----> 1\u001b[0;31m \u001b[0mtext1\u001b[0m\u001b[0;34m.\u001b[0m\u001b[0msimilar\u001b[0m\u001b[0;34m(\u001b[0m\u001b[0;34m\"whale\"\u001b[0m\u001b[0;34m)\u001b[0m\u001b[0;34m\u001b[0m\u001b[0;34m\u001b[0m\u001b[0m\n\u001b[0m",
      "\u001b[0;31mNameError\u001b[0m: name 'text1' is not defined"
     ]
    }
   ],
   "source": [
    "text1.similar(\"whale\")"
   ]
  },
  {
   "cell_type": "code",
   "execution_count": 22,
   "metadata": {},
   "outputs": [
    {
     "ename": "NameError",
     "evalue": "name 'text2' is not defined",
     "output_type": "error",
     "traceback": [
      "\u001b[0;31m---------------------------------------------------------------------------\u001b[0m",
      "\u001b[0;31mNameError\u001b[0m                                 Traceback (most recent call last)",
      "\u001b[0;32m<ipython-input-22-9b6ead053def>\u001b[0m in \u001b[0;36m<module>\u001b[0;34m\u001b[0m\n\u001b[0;32m----> 1\u001b[0;31m \u001b[0mtext2\u001b[0m\u001b[0;34m.\u001b[0m\u001b[0msimilar\u001b[0m\u001b[0;34m(\u001b[0m\u001b[0;34m\"love\"\u001b[0m\u001b[0;34m)\u001b[0m\u001b[0;34m\u001b[0m\u001b[0;34m\u001b[0m\u001b[0m\n\u001b[0m",
      "\u001b[0;31mNameError\u001b[0m: name 'text2' is not defined"
     ]
    }
   ],
   "source": [
    "text2.similar(\"love\")"
   ]
  },
  {
   "cell_type": "markdown",
   "metadata": {},
   "source": [
    "### Collocations\n",
    "\n",
    "Collocations are words that tend to appear together in a text. There are a number of different methods of deciding which collocations are \"most interesting\". One option is simple frequency: the collocations that appear a lot are the most important. Another option is to look at how often the words occur together versus how often they appear alone, using a calculation called [Pointwise Mutual Information](https://en.wikipedia.org/wiki/Pointwise_mutual_information) (PMI). Either way, we'll need to bring in some technology from the NLTK library to make these work.\n",
    "\n",
    "It can be quite useful to limit to some sort of minimal frequency if you're using the PMI measure. "
   ]
  },
  {
   "cell_type": "code",
   "execution_count": null,
   "metadata": {},
   "outputs": [],
   "source": [
    "from nltk.collocations import *\n",
    "bigram_measures = nltk.collocations.BigramAssocMeasures()"
   ]
  },
  {
   "cell_type": "code",
   "execution_count": null,
   "metadata": {},
   "outputs": [],
   "source": [
    "beo_coll = BigramCollocationFinder.from_words(beo_clean)"
   ]
  },
  {
   "cell_type": "code",
   "execution_count": null,
   "metadata": {},
   "outputs": [],
   "source": [
    "beo_coll.nbest(bigram_measures.raw_freq,10)"
   ]
  },
  {
   "cell_type": "code",
   "execution_count": null,
   "metadata": {},
   "outputs": [],
   "source": [
    "beo_coll.apply_freq_filter(3)\n",
    "beo_coll.nbest(bigram_measures.pmi,10)"
   ]
  },
  {
   "cell_type": "code",
   "execution_count": null,
   "metadata": {},
   "outputs": [],
   "source": [
    "# You could also do the frequency collocation with bigrams and FreqDist\n",
    "beo_bigram_fd = FreqDist(nltk.bigrams(beo_clean))\n",
    "beo_bigram_fd.most_common(10)"
   ]
  },
  {
   "cell_type": "markdown",
   "metadata": {},
   "source": [
    "### Words Corpus\n",
    "\n",
    "NLTK includes a corpus of words. It will occasionally be useful for us."
   ]
  },
  {
   "cell_type": "code",
   "execution_count": null,
   "metadata": {},
   "outputs": [],
   "source": [
    "nltk_words = nltk.corpus.words.words()\n",
    "len(nltk_words)"
   ]
  },
  {
   "cell_type": "code",
   "execution_count": null,
   "metadata": {},
   "outputs": [],
   "source": [
    "\"happy\" in nltk_words"
   ]
  },
  {
   "cell_type": "code",
   "execution_count": null,
   "metadata": {},
   "outputs": [],
   "source": [
    "\"hppy\" in nltk_words"
   ]
  }
 ],
 "metadata": {
  "kernelspec": {
   "display_name": "Python 3",
   "language": "python",
   "name": "python3"
  },
  "language_info": {
   "codemirror_mode": {
    "name": "ipython",
    "version": 3
   },
   "file_extension": ".py",
   "mimetype": "text/x-python",
   "name": "python",
   "nbconvert_exporter": "python",
   "pygments_lexer": "ipython3",
   "version": "3.8.5"
  }
 },
 "nbformat": 4,
 "nbformat_minor": 4
}
