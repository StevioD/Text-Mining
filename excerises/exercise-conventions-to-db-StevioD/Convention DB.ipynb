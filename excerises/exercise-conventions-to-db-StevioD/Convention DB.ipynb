{
 "cells": [
  {
   "cell_type": "markdown",
   "metadata": {},
   "source": [
    "## Convention Database\n",
    "\n",
    "In this notebook we store our convention data in a database. See the README for details."
   ]
  },
  {
   "cell_type": "code",
   "execution_count": 5,
   "metadata": {},
   "outputs": [
    {
     "data": {
      "text/plain": [
       "'/Users/steviodong/Desktop/Text Mining/exercise-conventions-to-db-StevioD'"
      ]
     },
     "execution_count": 5,
     "metadata": {},
     "output_type": "execute_result"
    }
   ],
   "source": [
    "import re\n",
    "import sqlite3\n",
    "import os\n",
    "from collections import defaultdict\n",
    "cwd=os.getcwd()\n",
    "cwd"
   ]
  },
  {
   "cell_type": "code",
   "execution_count": 10,
   "metadata": {},
   "outputs": [],
   "source": [
    "# Need your path here\n",
    "path_to_files = '/Users/steviodong/Desktop/Text Mining/exercise-conventions-to-db-StevioD/' \n",
    "transcript_files = os.listdir(path_to_files)"
   ]
  },
  {
   "cell_type": "code",
   "execution_count": 11,
   "metadata": {},
   "outputs": [
    {
     "data": {
      "text/plain": [
       "['.DS_Store',\n",
       " 'Convention DB - Solution.ipynb',\n",
       " 'README.md',\n",
       " '.gitignore',\n",
       " '2020_Conventions.db',\n",
       " 'www_rev_com_blog_transcripts2020-democratic-national-convention-dnc-night-4-transcript.txt',\n",
       " '.ipynb_checkpoints',\n",
       " '.git',\n",
       " 'Convention DB.ipynb']"
      ]
     },
     "execution_count": 11,
     "metadata": {},
     "output_type": "execute_result"
    }
   ],
   "source": [
    "transcript_files"
   ]
  },
  {
   "cell_type": "markdown",
   "metadata": {},
   "source": [
    "Let's start by creating a lookup between the files and the nights/parties. "
   ]
  },
  {
   "cell_type": "code",
   "execution_count": 14,
   "metadata": {},
   "outputs": [
    {
     "ename": "AttributeError",
     "evalue": "'NoneType' object has no attribute 'group'",
     "output_type": "error",
     "traceback": [
      "\u001b[0;31m---------------------------------------------------------------------------\u001b[0m",
      "\u001b[0;31mAttributeError\u001b[0m                            Traceback (most recent call last)",
      "\u001b[0;32m<ipython-input-14-1a2dbfc4976e>\u001b[0m in \u001b[0;36m<module>\u001b[0;34m\u001b[0m\n\u001b[1;32m     14\u001b[0m         \u001b[0mlookup_party_night\u001b[0m\u001b[0;34m[\u001b[0m\u001b[0mfile\u001b[0m\u001b[0;34m]\u001b[0m\u001b[0;34m.\u001b[0m\u001b[0mappend\u001b[0m\u001b[0;34m(\u001b[0m\u001b[0;34m\"Democratic\"\u001b[0m\u001b[0;34m)\u001b[0m\u001b[0;34m\u001b[0m\u001b[0;34m\u001b[0m\u001b[0m\n\u001b[1;32m     15\u001b[0m \u001b[0;34m\u001b[0m\u001b[0m\n\u001b[0;32m---> 16\u001b[0;31m     \u001b[0mnight_text\u001b[0m \u001b[0;34m=\u001b[0m \u001b[0mfile_night\u001b[0m\u001b[0;34m.\u001b[0m\u001b[0msearch\u001b[0m\u001b[0;34m(\u001b[0m\u001b[0mfile\u001b[0m\u001b[0;34m)\u001b[0m\u001b[0;34m.\u001b[0m\u001b[0mgroup\u001b[0m\u001b[0;34m(\u001b[0m\u001b[0;36m0\u001b[0m\u001b[0;34m)\u001b[0m\u001b[0;34m\u001b[0m\u001b[0;34m\u001b[0m\u001b[0m\n\u001b[0m\u001b[1;32m     17\u001b[0m     \u001b[0mlookup_party_night\u001b[0m\u001b[0;34m[\u001b[0m\u001b[0mfile\u001b[0m\u001b[0;34m]\u001b[0m\u001b[0;34m.\u001b[0m\u001b[0mappend\u001b[0m\u001b[0;34m(\u001b[0m\u001b[0mnight_text\u001b[0m\u001b[0;34m.\u001b[0m\u001b[0msplit\u001b[0m\u001b[0;34m(\u001b[0m\u001b[0;34m\"-\"\u001b[0m\u001b[0;34m)\u001b[0m\u001b[0;34m[\u001b[0m\u001b[0;36m1\u001b[0m\u001b[0;34m]\u001b[0m\u001b[0;34m)\u001b[0m\u001b[0;34m\u001b[0m\u001b[0;34m\u001b[0m\u001b[0m\n",
      "\u001b[0;31mAttributeError\u001b[0m: 'NoneType' object has no attribute 'group'"
     ]
    }
   ],
   "source": [
    "# Just going to be a two-item list with party and night.\n",
    "lookup_party_night = defaultdict(list)\n",
    "\n",
    "# Do some reading about default dictionaries (`defaultdict`)\n",
    "# Ask me about them in class. They're a bit confusing, but\n",
    "# really powerful. \n",
    "\n",
    "file_night = re.compile(r\"night-[1-4]\")\n",
    "\n",
    "for file in transcript_files :\n",
    "    if \"rnc\" in file :\n",
    "        lookup_party_night[file].append(\"Republican\")\n",
    "    elif \"dnc\" in file : \n",
    "        lookup_party_night[file].append(\"Democratic\")\n",
    "        \n",
    "    night_text = file_night.search(file).group(0)    \n",
    "    lookup_party_night[file].append(night_text.split(\"-\")[1])\n"
   ]
  },
  {
   "cell_type": "markdown",
   "metadata": {},
   "source": [
    "Now let's set up our DB."
   ]
  },
  {
   "cell_type": "code",
   "execution_count": 16,
   "metadata": {},
   "outputs": [],
   "source": [
    "db = sqlite3.connect(\"2020_Conventions.db\")\n",
    "cur = db.cursor()"
   ]
  },
  {
   "cell_type": "code",
   "execution_count": 17,
   "metadata": {},
   "outputs": [],
   "source": [
    "# Build an empty table called `conventions` \n",
    "# with the structure described\n",
    "# in the README. \n",
    "\n",
    "\n",
    "db.commit()"
   ]
  },
  {
   "cell_type": "markdown",
   "metadata": {},
   "source": [
    "Okay, that was easy enough. Now the tough part. We're going to need to use a regular expression to match the speaker, split the text on that, and funnel everything into the right spot. We wrapped the text, so we'll clean returns out of the text as we put it in. "
   ]
  },
  {
   "cell_type": "code",
   "execution_count": null,
   "metadata": {},
   "outputs": [],
   "source": [
    "# Fill in a regex that matches speakers and the subsequent time.\n",
    "# Use one from class or make your own!\n",
    "\n",
    "speaker_time_pattern = re.compile(r\" YOUR REGEX HERE   \")"
   ]
  },
  {
   "cell_type": "markdown",
   "metadata": {},
   "source": [
    "### Note\n",
    "In my solution I needed these two functions. The first one you may not need or you may need a different version of. The second one I've left gaps for you to fill in.\n",
    "\n",
    "Both of these functions are dependent on the regex you end up using. If you use the same one we did in class, which is the one I think is in my solutions, then you can just follow along. If you use a different regex, you should rework the second function, at least. "
   ]
  },
  {
   "cell_type": "code",
   "execution_count": null,
   "metadata": {},
   "outputs": [],
   "source": [
    "def fix_speakers(speaker) : \n",
    "    # Missing punctuation causes our process to fail. We could engineer a solution, \n",
    "    # by doing multiple passes and removing speakers from text, but that could\n",
    "    # be fraught too. We'll just fix things manually and not worry about the \n",
    "    # textual errors. \n",
    "    # \n",
    "    # One issue is there are a handful of cases where the closing puctuation is a\n",
    "    # dash. This also occurs in hyphenated names, so the fix to the regex would \n",
    "    # be kind of a hassle. Seemed easier to do the lookup.\n",
    "    # \n",
    "    # Note this pretty handy way to do these fixes. \n",
    "\n",
    "    fix_lu = {   \n",
    "        'Will we see to it that no one who works full time can live in poverty Pete Buttigieg':'Pete Buttigieg',\n",
    "        'I stayed for an hour and a half- Jamie Ponder':'Jamie Ponder',\n",
    "        'It seems like just yesterday that we were at our first convention- Melania Trump':'Melania Trump',\n",
    "        'The night before I fought back- Kayleigh McEnany':'Kayleigh McEnany',\n",
    "        'It is a sad irony that Jackie immigrated- Speaker 8':'Speaker 8',\n",
    "        'I withdrew from the terrible one- Donald Trump':'Donald Trump',\n",
    "        'Alaska casts seven votes for Bernie- Chuck Degnan':'Chuck Degnan',\n",
    "        'A lot of us were shocked and I think what gives me hope- Art Acevedo':'Art Acevedo',\n",
    "        'But Joe Biden is a guy who has earned the respect- Eva Longoria':'Eva Longoria',\n",
    "        'And the promise of our country led by president Joe Biden and vice-president Kamala Harris Kerry Washington':'Kerry Washington',\n",
    "        'Joe will also- Senator Bernie Sanders':'Senator Bernie Sanders'\n",
    "    }\n",
    "\n",
    "    if speaker in fix_lu : \n",
    "        return(fix_lu[speaker])\n",
    "    else : \n",
    "        return(speaker)\n",
    "    "
   ]
  },
  {
   "cell_type": "code",
   "execution_count": null,
   "metadata": {},
   "outputs": [],
   "source": [
    "def parse_speakers_times(st_items) :\n",
    "    # Since we'll need to split these carefully, let's\n",
    "    # write a function to just split one of them. They come in \n",
    "    # like '. Name Name: ( HH:MM:SS )' with unknown first punctuation\n",
    "    # And complicated names. We'll return three lists in a dictionary\n",
    "    # with keys \"speakers\", \"times\", \"last_puncts\" holding the \n",
    "    # speakers, the times, and the closing punctuation, since \n",
    "    # that needs to be glued onto the text. \n",
    "    \n",
    "    # The time fields come in looking like this ' (NN' or \n",
    "    # 'NN )'. We need a regular expression that matches \n",
    "    # the characters that *aren't* NN (which stands \n",
    "    # for the two digit hour or seconds).\n",
    "    time_clean = re.compile(r\" YOUR REGEX HERE\")\n",
    "    \n",
    "    speakers = []\n",
    "    times = []\n",
    "    last_puncts = []\n",
    "    \n",
    "    # There are probably some more efficient ways to do \n",
    "    # what I'm doing in this loop. \n",
    "    for st_item in st_items : \n",
    "        last_puncts.append(st_item[0])\n",
    "        \n",
    "        # split the pieces on semi-colon\n",
    "        pieces = st_item[1:].split(\":\")\n",
    "        \n",
    "        # Figure out what to append to speakers.\n",
    "        this_speaker = \"Something you figure out. `pieces` seems useful.\"\n",
    "        speakers.append(this_speaker)\n",
    "        \n",
    "        # This one took a while to get right\n",
    "        # Turn the remaining pieces into a clean time.\n",
    "        this_time = \"01:23\" # always this time, till you figure out how to get\n",
    "        # the right one in there. \n",
    "\n",
    "        times.append(this_time)\n",
    "     \n",
    "    # If you do a manual lookup to do some fixes,\n",
    "    # like I do, uncomment this next line.\n",
    "    #speakers = list(map(fix_speakers,speakers))\n",
    "        \n",
    "    assert(len(speakers)==len(times))\n",
    "    assert(len(speakers)==len(last_puncts))\n",
    "        \n",
    "    return({'speakers':speakers,\n",
    "            'times':times,\n",
    "            'last_puncts':last_puncts})"
   ]
  },
  {
   "cell_type": "code",
   "execution_count": null,
   "metadata": {},
   "outputs": [],
   "source": [
    "for file in transcript_files : \n",
    "    with open(path_to_files + file,encoding=\"UTF-8\") as infile :\n",
    "        file_text = infile.read()\n",
    "\n",
    "        # This command will give us all the matches\n",
    "        speakers_times = speaker_time_pattern.findall(file_text)\n",
    "\n",
    "        # And this one will split the file\n",
    "        split_texts = speaker_time_pattern.split(file_text)\n",
    "\n",
    "        # First bit of text is unattributed. Keeping the\n",
    "        # formatting the same\n",
    "\n",
    "        speakers_times = ['. Unknown: ( 00:00 )'] + speakers_times\n",
    "\n",
    "        # Do the parsing in a function\n",
    "        results = parse_speakers_times(speakers_times)\n",
    "\n",
    "        # The last mark of punctuation from text N was \n",
    "        # caught in the Speaker in the N+1 position. let's fix that. \n",
    "        texts = [split_texts[idx] + results['last_puncts'][idx] for idx in range(len(split_texts))]\n",
    "\n",
    "        # A little cleaning of the texts\n",
    "        texts = [t.strip().replace(\"\\n\",\" \") for t in texts]\n",
    "\n",
    "        # All we need now is a counter to keep track of how many times this speaker has \n",
    "        # spoken on this night. \n",
    "        speaker_counter = defaultdict(int)\n",
    "\n",
    "        assert(len(results['speakers'])==len(texts))\n",
    "        \n",
    "        for idx in range(len(texts)) : \n",
    "            \n",
    "            # build a row to put in the database\n",
    "            db_row = ('you need',\n",
    "                      'to figure',\n",
    "                      'out how',\n",
    "                       2,\n",
    "                      'fill in all',\n",
    "                       8,\n",
    "                      'of these fields.')\n",
    "   \n",
    "            cur.execute('''INSERT INTO conventions\n",
    "                                (party,night,speaker,speaker_count,\n",
    "                                time,text,text_len,file) \n",
    "                           VALUES (?,?,?,?,?,?,?,?)''',\n",
    "                       db_row) \n",
    "\n",
    "    # Might as well commit each file\n",
    "    db.commit()"
   ]
  },
  {
   "cell_type": "code",
   "execution_count": null,
   "metadata": {},
   "outputs": [],
   "source": [
    "# Let's run some queries and see how things look\n",
    "for row in cur.execute('''\n",
    "        SELECT party, sum(text_len) as words\n",
    "        FROM conventions\n",
    "        GROUP BY party\n",
    "        ORDER BY words DESC\n",
    "''') : \n",
    "    print(f\"The {row[0]} party had {row[1]} words.\")"
   ]
  },
  {
   "cell_type": "code",
   "execution_count": null,
   "metadata": {},
   "outputs": [],
   "source": [
    "for row in cur.execute('''\n",
    "        SELECT party, speaker, sum(text_len) as words\n",
    "        FROM conventions\n",
    "        GROUP BY party, speaker\n",
    "        ORDER BY words DESC\n",
    "        LIMIT 50\n",
    "''') : \n",
    "    print(f\"For the {row[0]} party, {row[1]} said {row[2]} words.\")"
   ]
  },
  {
   "cell_type": "code",
   "execution_count": null,
   "metadata": {},
   "outputs": [],
   "source": [
    "for row in cur.execute('''\n",
    "        SELECT party, night, sum(text_len) as words\n",
    "        FROM conventions\n",
    "        GROUP BY party, night\n",
    "        ORDER BY words DESC\n",
    "''') : \n",
    "    print(f\"The {row[0]} party on night {row[1]} said {row[2]} words.\")"
   ]
  },
  {
   "cell_type": "code",
   "execution_count": null,
   "metadata": {},
   "outputs": [],
   "source": [
    "db.close()"
   ]
  }
 ],
 "metadata": {
  "kernelspec": {
   "display_name": "Python 3",
   "language": "python",
   "name": "python3"
  },
  "language_info": {
   "codemirror_mode": {
    "name": "ipython",
    "version": 3
   },
   "file_extension": ".py",
   "mimetype": "text/x-python",
   "name": "python",
   "nbconvert_exporter": "python",
   "pygments_lexer": "ipython3",
   "version": "3.8.5"
  }
 },
 "nbformat": 4,
 "nbformat_minor": 4
}
