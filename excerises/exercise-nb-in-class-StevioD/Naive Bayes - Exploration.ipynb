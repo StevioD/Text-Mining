{
 "cells": [
  {
   "cell_type": "markdown",
   "metadata": {},
   "source": [
    "## Naive Bayes Classifiers\n",
    "A powerful and intutitive technique. File this one away, it'll often teach you a lot about a problem, even if it doesn't \"win\" the accuracy game. First some examples from NLTK."
   ]
  },
  {
   "cell_type": "code",
   "execution_count": 1,
   "metadata": {},
   "outputs": [],
   "source": [
    "import nltk\n",
    "\n",
    "from nltk.corpus import names\n",
    "import random\n",
    "from collections import Counter\n",
    "import re"
   ]
  },
  {
   "cell_type": "code",
   "execution_count": 2,
   "metadata": {},
   "outputs": [],
   "source": [
    "# Create some labeled observations\n",
    "labeled_names = ([(name, 'male') for name in names.words('male.txt')] +\n",
    "                 [(name, 'female') for name in names.words('female.txt')])\n",
    "\n",
    "# shuffle so that we can have a training and test set\n",
    "random.shuffle(labeled_names)"
   ]
  },
  {
   "cell_type": "code",
   "execution_count": 3,
   "metadata": {},
   "outputs": [],
   "source": [
    "# For the purposes of this toy example, we just use the last letters as our only feature\n",
    "def gender_features(word):\n",
    "    return {'last_letter': word[-1]}"
   ]
  },
  {
   "cell_type": "markdown",
   "metadata": {},
   "source": [
    "For this next line, read a bit about what's going on with this classifier [here](http://www.nltk.org/book/ch06.html). "
   ]
  },
  {
   "cell_type": "code",
   "execution_count": 4,
   "metadata": {},
   "outputs": [],
   "source": [
    "# This line is super important to understand\n",
    "featuresets = [(gender_features(n), gender) for (n, gender) in labeled_names]"
   ]
  },
  {
   "cell_type": "code",
   "execution_count": 5,
   "metadata": {},
   "outputs": [],
   "source": [
    "train_set, test_set = featuresets[500:], featuresets[:500]\n",
    "classifier = nltk.NaiveBayesClassifier.train(train_set)"
   ]
  },
  {
   "cell_type": "code",
   "execution_count": 6,
   "metadata": {},
   "outputs": [
    {
     "name": "stdout",
     "output_type": "stream",
     "text": [
      "0.784\n"
     ]
    }
   ],
   "source": [
    "# Test vs train\n",
    "print(nltk.classify.accuracy(classifier, test_set))"
   ]
  },
  {
   "cell_type": "markdown",
   "metadata": {},
   "source": [
    "Now something for you to do. Fill in the blanks in the cell below to look at how the classifier does on our class."
   ]
  },
  {
   "cell_type": "code",
   "execution_count": 7,
   "metadata": {},
   "outputs": [
    {
     "name": "stdout",
     "output_type": "stream",
     "text": [
      "name1 classified as female\n",
      "name2 classified as female\n",
      "On our class, the accuracy is 0.0.\n"
     ]
    }
   ],
   "source": [
    "our_class = \"name1 name2\".split() # fill in our class here \n",
    "\n",
    "for student in our_class :\n",
    "    print(student + \" classified as \" + classifier.classify(gender_features(student)))\n",
    "\n",
    "# Calculate the overall accuracy\n",
    "errors = 0\n",
    "print(\"On our class, the accuracy is {}.\".format(errors/len(our_class)))"
   ]
  },
  {
   "cell_type": "code",
   "execution_count": 8,
   "metadata": {},
   "outputs": [
    {
     "data": {
      "text/plain": [
       "Counter({'female': 5001, 'male': 2943})"
      ]
     },
     "execution_count": 8,
     "metadata": {},
     "output_type": "execute_result"
    }
   ],
   "source": [
    "# Looking at the counts by gender can be useful for\n",
    "# understanding priors.\n",
    "Counter([gender for name, gender in labeled_names])"
   ]
  },
  {
   "cell_type": "code",
   "execution_count": 9,
   "metadata": {},
   "outputs": [
    {
     "name": "stdout",
     "output_type": "stream",
     "text": [
      "Most Informative Features\n",
      "             last_letter = 'a'            female : male   =     36.9 : 1.0\n",
      "             last_letter = 'k'              male : female =     31.2 : 1.0\n",
      "             last_letter = 'f'              male : female =     16.6 : 1.0\n",
      "             last_letter = 'p'              male : female =     11.2 : 1.0\n",
      "             last_letter = 'v'              male : female =     10.5 : 1.0\n",
      "             last_letter = 'd'              male : female =     10.3 : 1.0\n",
      "             last_letter = 'm'              male : female =     10.1 : 1.0\n",
      "             last_letter = 'o'              male : female =      8.2 : 1.0\n",
      "             last_letter = 'r'              male : female =      6.5 : 1.0\n",
      "             last_letter = 'w'              male : female =      5.4 : 1.0\n",
      "             last_letter = 'g'              male : female =      4.9 : 1.0\n",
      "             last_letter = 's'              male : female =      4.1 : 1.0\n",
      "             last_letter = 'z'              male : female =      4.0 : 1.0\n",
      "             last_letter = 'j'              male : female =      4.0 : 1.0\n",
      "             last_letter = 't'              male : female =      4.0 : 1.0\n",
      "             last_letter = 'b'              male : female =      3.9 : 1.0\n",
      "             last_letter = 'i'            female : male   =      3.6 : 1.0\n",
      "             last_letter = 'u'              male : female =      3.0 : 1.0\n",
      "             last_letter = 'n'              male : female =      2.1 : 1.0\n",
      "             last_letter = 'e'            female : male   =      1.8 : 1.0\n",
      "             last_letter = 'l'              male : female =      1.7 : 1.0\n",
      "             last_letter = 'x'              male : female =      1.7 : 1.0\n",
      "             last_letter = 'h'              male : female =      1.5 : 1.0\n",
      "             last_letter = 'y'              male : female =      1.2 : 1.0\n"
     ]
    }
   ],
   "source": [
    "# let's just look at all the features. Usually you'd only show a few\n",
    "classifier.show_most_informative_features(26)"
   ]
  },
  {
   "cell_type": "markdown",
   "metadata": {},
   "source": [
    "Now let's build up some data sets so we can do iterative improvements to our model. "
   ]
  },
  {
   "cell_type": "code",
   "execution_count": 10,
   "metadata": {},
   "outputs": [],
   "source": [
    "random.shuffle(labeled_names) # Use this to shuffle in place to build training and test set"
   ]
  },
  {
   "cell_type": "markdown",
   "metadata": {},
   "source": [
    "This next cell is worth understanding. Ask questions if it is opaque. "
   ]
  },
  {
   "cell_type": "code",
   "execution_count": 11,
   "metadata": {},
   "outputs": [],
   "source": [
    "test_size = 500\n",
    "devtest_size = 1000\n",
    "\n",
    "train_names = labeled_names[(test_size + devtest_size):]\n",
    "devtest_names = labeled_names[test_size:(test_size + devtest_size)]\n",
    "test_names = labeled_names[:test_size]"
   ]
  },
  {
   "cell_type": "code",
   "execution_count": 12,
   "metadata": {},
   "outputs": [
    {
     "name": "stdout",
     "output_type": "stream",
     "text": [
      "0.766\n"
     ]
    }
   ],
   "source": [
    "train_set = [(gender_features(n), gender) for (n, gender) in train_names]\n",
    "devtest_set = [(gender_features(n), gender) for (n, gender) in devtest_names]\n",
    "test_set = [(gender_features(n), gender) for (n, gender) in test_names]\n",
    "classifier = nltk.NaiveBayesClassifier.train(train_set)\n",
    "print(nltk.classify.accuracy(classifier, devtest_set))"
   ]
  },
  {
   "cell_type": "code",
   "execution_count": 13,
   "metadata": {},
   "outputs": [],
   "source": [
    "errors = []\n",
    "for (name, tag) in devtest_names:\n",
    "    guess = classifier.classify(gender_features(name))\n",
    "    if guess != tag:\n",
    "        errors.append( (tag, guess, name) )"
   ]
  },
  {
   "cell_type": "markdown",
   "metadata": {},
   "source": [
    "Read the results of the cells below, and form some hypotheses of additional features to add. "
   ]
  },
  {
   "cell_type": "code",
   "execution_count": 14,
   "metadata": {
    "collapsed": true
   },
   "outputs": [
    {
     "name": "stdout",
     "output_type": "stream",
     "text": [
      "correct=female   guess=male     name=Alleen                        \n",
      "correct=female   guess=male     name=Alyson                        \n",
      "correct=female   guess=male     name=Alyss                         \n",
      "correct=female   guess=male     name=Anabel                        \n",
      "correct=female   guess=male     name=April                         \n",
      "correct=female   guess=male     name=Ardelis                       \n",
      "correct=female   guess=male     name=Ardis                         \n",
      "correct=female   guess=male     name=Aurel                         \n",
      "correct=female   guess=male     name=Avril                         \n",
      "correct=female   guess=male     name=Babs                          \n",
      "correct=female   guess=male     name=Beau                          \n",
      "correct=female   guess=male     name=Beret                         \n",
      "correct=female   guess=male     name=Bill                          \n",
      "correct=female   guess=male     name=Blondell                      \n",
      "correct=female   guess=male     name=Brook                         \n",
      "correct=female   guess=male     name=Camel                         \n",
      "correct=female   guess=male     name=Carlin                        \n",
      "correct=female   guess=male     name=Carolann                      \n",
      "correct=female   guess=male     name=Charin                        \n",
      "correct=female   guess=male     name=Charmian                      \n",
      "correct=female   guess=male     name=Clem                          \n",
      "correct=female   guess=male     name=Cleo                          \n",
      "correct=female   guess=male     name=Corliss                       \n",
      "correct=female   guess=male     name=Cristin                       \n",
      "correct=female   guess=male     name=Danell                        \n",
      "correct=female   guess=male     name=Darb                          \n",
      "correct=female   guess=male     name=Daryl                         \n",
      "correct=female   guess=male     name=Dix                           \n",
      "correct=female   guess=male     name=Doloritas                     \n",
      "correct=female   guess=male     name=Dot                           \n",
      "correct=female   guess=male     name=Dyann                         \n",
      "correct=female   guess=male     name=Easter                        \n",
      "correct=female   guess=male     name=Elizabet                      \n",
      "correct=female   guess=male     name=Ethyl                         \n",
      "correct=female   guess=male     name=Flor                          \n",
      "correct=female   guess=male     name=Gail                          \n",
      "correct=female   guess=male     name=Gates                         \n",
      "correct=female   guess=male     name=Gilligan                      \n",
      "correct=female   guess=male     name=Gretel                        \n",
      "correct=female   guess=male     name=Guendolen                     \n",
      "correct=female   guess=male     name=Gwyn                          \n",
      "correct=female   guess=male     name=Hannis                        \n",
      "correct=female   guess=male     name=Ingrid                        \n",
      "correct=female   guess=male     name=Jaclyn                        \n",
      "correct=female   guess=male     name=Jan                           \n",
      "correct=female   guess=male     name=Jaquelyn                      \n",
      "correct=female   guess=male     name=Jennifer                      \n",
      "correct=female   guess=male     name=Jewel                         \n",
      "correct=female   guess=male     name=Jilleen                       \n",
      "correct=female   guess=male     name=JoAnn                         \n",
      "correct=female   guess=male     name=Jocelin                       \n",
      "correct=female   guess=male     name=Karylin                       \n",
      "correct=female   guess=male     name=Karyn                         \n",
      "correct=female   guess=male     name=Katheleen                     \n",
      "correct=female   guess=male     name=Katleen                       \n",
      "correct=female   guess=male     name=Kaylil                        \n",
      "correct=female   guess=male     name=Keren                         \n",
      "correct=female   guess=male     name=Kial                          \n",
      "correct=female   guess=male     name=Kristien                      \n",
      "correct=female   guess=male     name=Laureen                       \n",
      "correct=female   guess=male     name=Lilian                        \n",
      "correct=female   guess=male     name=Linell                        \n",
      "correct=female   guess=male     name=Lorain                        \n",
      "correct=female   guess=male     name=Lurleen                       \n",
      "correct=female   guess=male     name=Lynnell                       \n",
      "correct=female   guess=male     name=Mab                           \n",
      "correct=female   guess=male     name=Madlin                        \n",
      "correct=female   guess=male     name=Margalo                       \n",
      "correct=female   guess=male     name=Margit                        \n",
      "correct=female   guess=male     name=Maribel                       \n",
      "correct=female   guess=male     name=Mariellen                     \n",
      "correct=female   guess=male     name=Marlo                         \n",
      "correct=female   guess=male     name=Marris                        \n",
      "correct=female   guess=male     name=Maureen                       \n",
      "correct=female   guess=male     name=Max                           \n",
      "correct=female   guess=male     name=Meagan                        \n",
      "correct=female   guess=male     name=Meghan                        \n",
      "correct=female   guess=male     name=Mehetabel                     \n",
      "correct=female   guess=male     name=Michal                        \n",
      "correct=female   guess=male     name=Miran                         \n",
      "correct=female   guess=male     name=Moll                          \n",
      "correct=female   guess=male     name=Mureil                        \n",
      "correct=female   guess=male     name=Myriam                        \n",
      "correct=female   guess=male     name=Nan                           \n",
      "correct=female   guess=male     name=Nil                           \n",
      "correct=female   guess=male     name=Nitin                         \n",
      "correct=female   guess=male     name=Ragnhild                      \n",
      "correct=female   guess=male     name=Rakel                         \n",
      "correct=female   guess=male     name=Renell                        \n",
      "correct=female   guess=male     name=Robbyn                        \n",
      "correct=female   guess=male     name=Robin                         \n",
      "correct=female   guess=male     name=Rosalind                      \n",
      "correct=female   guess=male     name=Rosario                       \n",
      "correct=female   guess=male     name=Roselyn                       \n",
      "correct=female   guess=male     name=Sean                          \n",
      "correct=female   guess=male     name=Shannon                       \n",
      "correct=female   guess=male     name=Sibel                         \n",
      "correct=female   guess=male     name=Siobhan                       \n",
      "correct=female   guess=male     name=Starr                         \n",
      "correct=female   guess=male     name=Suellen                       \n",
      "correct=female   guess=male     name=Tamar                         \n",
      "correct=female   guess=male     name=Thomasin                      \n",
      "correct=female   guess=male     name=Tim                           \n",
      "correct=female   guess=male     name=Van                           \n",
      "correct=female   guess=male     name=Winnifred                     \n",
      "correct=male     guess=female   name=Aguste                        \n",
      "correct=male     guess=female   name=Ajay                          \n",
      "correct=male     guess=female   name=Alaa                          \n",
      "correct=male     guess=female   name=Alexei                        \n",
      "correct=male     guess=female   name=Andie                         \n",
      "correct=male     guess=female   name=Archie                        \n",
      "correct=male     guess=female   name=Bailey                        \n",
      "correct=male     guess=female   name=Barry                         \n",
      "correct=male     guess=female   name=Bennie                        \n",
      "correct=male     guess=female   name=Berke                         \n",
      "correct=male     guess=female   name=Brinkley                      \n",
      "correct=male     guess=female   name=Bucky                         \n",
      "correct=male     guess=female   name=Chaddy                        \n",
      "correct=male     guess=female   name=Chancey                       \n",
      "correct=male     guess=female   name=Charley                       \n",
      "correct=male     guess=female   name=Chase                         \n",
      "correct=male     guess=female   name=Christoph                     \n",
      "correct=male     guess=female   name=Claire                        \n",
      "correct=male     guess=female   name=Claybourne                    \n",
      "correct=male     guess=female   name=Cobbie                        \n",
      "correct=male     guess=female   name=Cobby                         \n",
      "correct=male     guess=female   name=Dane                          \n",
      "correct=male     guess=female   name=Danny                         \n",
      "correct=male     guess=female   name=Davide                        \n",
      "correct=male     guess=female   name=Demetre                       \n",
      "correct=male     guess=female   name=Derby                         \n",
      "correct=male     guess=female   name=Dewey                         \n",
      "correct=male     guess=female   name=Dmitri                        \n",
      "correct=male     guess=female   name=Dory                          \n",
      "correct=male     guess=female   name=Drake                         \n",
      "correct=male     guess=female   name=Duffie                        \n",
      "correct=male     guess=female   name=Elmore                        \n",
      "correct=male     guess=female   name=Elroy                         \n",
      "correct=male     guess=female   name=Emmy                          \n",
      "correct=male     guess=female   name=Emory                         \n",
      "correct=male     guess=female   name=Ferdie                        \n",
      "correct=male     guess=female   name=Fonsie                        \n",
      "correct=male     guess=female   name=Frankie                       \n",
      "correct=male     guess=female   name=Gale                          \n",
      "correct=male     guess=female   name=Garth                         \n",
      "correct=male     guess=female   name=Georgia                       \n",
      "correct=male     guess=female   name=Gordie                        \n",
      "correct=male     guess=female   name=Granville                     \n",
      "correct=male     guess=female   name=Hale                          \n",
      "correct=male     guess=female   name=Haley                         \n",
      "correct=male     guess=female   name=Harvie                        \n",
      "correct=male     guess=female   name=Herve                         \n",
      "correct=male     guess=female   name=Hewie                         \n",
      "correct=male     guess=female   name=Hillery                       \n",
      "correct=male     guess=female   name=Hugh                          \n",
      "correct=male     guess=female   name=Huntley                       \n",
      "correct=male     guess=female   name=Irvine                        \n",
      "correct=male     guess=female   name=Jean-Christophe               \n",
      "correct=male     guess=female   name=Jeffie                        \n",
      "correct=male     guess=female   name=Jeramie                       \n",
      "correct=male     guess=female   name=Jerrie                        \n",
      "correct=male     guess=female   name=Jessey                        \n",
      "correct=male     guess=female   name=Jose                          \n",
      "correct=male     guess=female   name=Joseph                        \n",
      "correct=male     guess=female   name=Josiah                        \n",
      "correct=male     guess=female   name=Kelly                         \n",
      "correct=male     guess=female   name=Kerry                         \n",
      "correct=male     guess=female   name=Krishna                       \n",
      "correct=male     guess=female   name=Laurie                        \n",
      "correct=male     guess=female   name=Lawerence                     \n",
      "correct=male     guess=female   name=Lazare                        \n",
      "correct=male     guess=female   name=Lemmy                         \n",
      "correct=male     guess=female   name=Lindy                         \n",
      "correct=male     guess=female   name=Lorne                         \n",
      "correct=male     guess=female   name=Mahesh                        \n",
      "correct=male     guess=female   name=Matty                         \n",
      "correct=male     guess=female   name=Mickey                        \n",
      "correct=male     guess=female   name=Micky                         \n",
      "correct=male     guess=female   name=Mika                          \n",
      "correct=male     guess=female   name=Mikey                         \n",
      "correct=male     guess=female   name=Moishe                        \n",
      "correct=male     guess=female   name=Montgomery                    \n",
      "correct=male     guess=female   name=Moore                         \n",
      "correct=male     guess=female   name=Moshe                         \n",
      "correct=male     guess=female   name=Murphy                        \n",
      "correct=male     guess=female   name=Nickey                        \n",
      "correct=male     guess=female   name=Nicky                         \n",
      "correct=male     guess=female   name=Normie                        \n",
      "correct=male     guess=female   name=Obie                          \n",
      "correct=male     guess=female   name=Ozzie                         \n",
      "correct=male     guess=female   name=Paige                         \n",
      "correct=male     guess=female   name=Partha                        \n",
      "correct=male     guess=female   name=Pierre                        \n",
      "correct=male     guess=female   name=Radcliffe                     \n",
      "correct=male     guess=female   name=Ramesh                        \n",
      "correct=male     guess=female   name=Randy                         \n",
      "correct=male     guess=female   name=Ray                           \n",
      "correct=male     guess=female   name=Reggy                         \n",
      "correct=male     guess=female   name=Rene                          \n",
      "correct=male     guess=female   name=Rodolphe                      \n",
      "correct=male     guess=female   name=Ronny                         \n",
      "correct=male     guess=female   name=Roy                           \n",
      "correct=male     guess=female   name=Royce                         \n",
      "correct=male     guess=female   name=Ruddie                        \n",
      "correct=male     guess=female   name=Sammy                         \n",
      "correct=male     guess=female   name=Samuele                       \n",
      "correct=male     guess=female   name=See                           \n",
      "correct=male     guess=female   name=Shea                          \n",
      "correct=male     guess=female   name=Shelley                       \n",
      "correct=male     guess=female   name=Sidney                        \n",
      "correct=male     guess=female   name=Skye                          \n",
      "correct=male     guess=female   name=Smitty                        \n",
      "correct=male     guess=female   name=Sparky                        \n",
      "correct=male     guess=female   name=Tally                         \n",
      "correct=male     guess=female   name=Tammy                         \n",
      "correct=male     guess=female   name=Thorpe                        \n",
      "correct=male     guess=female   name=Tremaine                      \n",
      "correct=male     guess=female   name=Tulley                        \n",
      "correct=male     guess=female   name=Uli                           \n",
      "correct=male     guess=female   name=Ulrich                        \n",
      "correct=male     guess=female   name=Uri                           \n",
      "correct=male     guess=female   name=Verne                         \n",
      "correct=male     guess=female   name=Vinny                         \n",
      "correct=male     guess=female   name=Voltaire                      \n",
      "correct=male     guess=female   name=Way                           \n",
      "correct=male     guess=female   name=Wayne                         \n",
      "correct=male     guess=female   name=Wesley                        \n",
      "correct=male     guess=female   name=Westbrooke                    \n",
      "correct=male     guess=female   name=Willi                         \n",
      "correct=male     guess=female   name=Yancy                         \n",
      "correct=male     guess=female   name=Zacharie                      \n",
      "correct=male     guess=female   name=Zachery                       \n",
      "correct=male     guess=female   name=Zechariah                     \n",
      "correct=male     guess=female   name=Zolly                         \n"
     ]
    }
   ],
   "source": [
    "for (tag, guess, name) in sorted(errors):\n",
    "    print('correct={:<8} guess={:<8s} name={:<30}'.format(tag, guess, name))"
   ]
  },
  {
   "cell_type": "markdown",
   "metadata": {},
   "source": [
    "At this point, look at the names that are being missed and see if you can add some features that will improve our accuracy. Some potential options:\n",
    "\n",
    "* Specific starting or ending letters.\n",
    "* Letters at the beginning or end of the name.\n",
    "* Patterns like doubled letters, etc. \n",
    "\n",
    "### Your work\n",
    "Make changes to the below cells to improve `gender_features_2`."
   ]
  },
  {
   "cell_type": "code",
   "execution_count": 17,
   "metadata": {},
   "outputs": [],
   "source": [
    "# Putting regexes in their own cell so they only have to be compiled once\n",
    "hyphen = re.compile(r'-') # here's an example."
   ]
  },
  {
   "cell_type": "code",
   "execution_count": 18,
   "metadata": {},
   "outputs": [],
   "source": [
    "# build your own function. Here's an example to get you started\n",
    "def gender_features_2(word):\n",
    "    ''' This function should take in a word and return a dictionary\n",
    "        with the name of the feature as the key and the value \n",
    "        as the feature value. '''\n",
    "    last_letter = word[-1]\n",
    "    first_letter = word[0]\n",
    "      \n",
    "    if hyphen.search(word) :\n",
    "        double = True\n",
    "    else :\n",
    "        double = False\n",
    "    \n",
    "    ret_dict = {'last_letter':last_letter,\n",
    "                'first_letter_c':first_letter==\"C\",\n",
    "                'first_letter_j':first_letter==\"J\",\n",
    "                'double_name' : double}\n",
    "    \n",
    "    return (ret_dict)"
   ]
  },
  {
   "cell_type": "code",
   "execution_count": 19,
   "metadata": {},
   "outputs": [
    {
     "name": "stdout",
     "output_type": "stream",
     "text": [
      "{'last_letter': 'n', 'first_letter_c': False, 'first_letter_j': True, 'double_name': False}\n",
      "{'last_letter': 'a', 'first_letter_c': False, 'first_letter_j': False, 'double_name': False}\n",
      "{'last_letter': 'n', 'first_letter_c': True, 'first_letter_j': False, 'double_name': True}\n"
     ]
    }
   ],
   "source": [
    "print(gender_features_2(\"John\"))\n",
    "print(gender_features_2(\"Harika\"))\n",
    "print(gender_features_2(\"Carrie-Ann\"))"
   ]
  },
  {
   "cell_type": "markdown",
   "metadata": {},
   "source": [
    "Now, having defined our new function, we can test it on `devtest`."
   ]
  },
  {
   "cell_type": "code",
   "execution_count": 20,
   "metadata": {},
   "outputs": [
    {
     "name": "stdout",
     "output_type": "stream",
     "text": [
      "0.769\n"
     ]
    }
   ],
   "source": [
    "train_set = [(gender_features_2(n), gender) for (n, gender) in train_names]\n",
    "devtest_set = [(gender_features_2(n), gender) for (n, gender) in devtest_names]\n",
    "test_set = [(gender_features_2(n), gender) for (n, gender) in test_names]\n",
    "\n",
    "classifier = nltk.NaiveBayesClassifier.train(train_set)\n",
    "print(nltk.classify.accuracy(classifier, devtest_set))"
   ]
  },
  {
   "cell_type": "markdown",
   "metadata": {},
   "source": [
    "And you can look at the features and the errors:"
   ]
  },
  {
   "cell_type": "code",
   "execution_count": 21,
   "metadata": {},
   "outputs": [
    {
     "name": "stdout",
     "output_type": "stream",
     "text": [
      "Most Informative Features\n",
      "             last_letter = 'a'            female : male   =     39.5 : 1.0\n",
      "             last_letter = 'k'              male : female =     37.3 : 1.0\n",
      "             last_letter = 'f'              male : female =     26.8 : 1.0\n",
      "             last_letter = 'v'              male : female =     11.3 : 1.0\n",
      "             last_letter = 'p'              male : female =      9.9 : 1.0\n",
      "             last_letter = 'd'              male : female =      9.9 : 1.0\n",
      "             last_letter = 'm'              male : female =      9.6 : 1.0\n",
      "             last_letter = 'o'              male : female =      8.3 : 1.0\n",
      "             last_letter = 'r'              male : female =      6.8 : 1.0\n",
      "             last_letter = 'z'              male : female =      5.1 : 1.0\n",
      "             last_letter = 'g'              male : female =      4.3 : 1.0\n",
      "             last_letter = 's'              male : female =      3.9 : 1.0\n",
      "             last_letter = 'u'              male : female =      3.9 : 1.0\n",
      "             last_letter = 't'              male : female =      3.8 : 1.0\n",
      "             last_letter = 'w'              male : female =      3.6 : 1.0\n",
      "             last_letter = 'i'            female : male   =      3.6 : 1.0\n",
      "             last_letter = 'b'              male : female =      3.3 : 1.0\n",
      "             last_letter = 'x'              male : female =      2.4 : 1.0\n",
      "             last_letter = 'n'              male : female =      2.2 : 1.0\n",
      "             last_letter = 'l'              male : female =      1.8 : 1.0\n",
      "             last_letter = 'e'            female : male   =      1.8 : 1.0\n",
      "          first_letter_c = True           female : male   =      1.7 : 1.0\n",
      "             double_name = True           female : male   =      1.7 : 1.0\n",
      "             last_letter = 'h'              male : female =      1.5 : 1.0\n",
      "             last_letter = 'y'              male : female =      1.2 : 1.0\n",
      "          first_letter_j = True           female : male   =      1.1 : 1.0\n",
      "          first_letter_c = False            male : female =      1.0 : 1.0\n",
      "          first_letter_j = False            male : female =      1.0 : 1.0\n",
      "             double_name = False            male : female =      1.0 : 1.0\n"
     ]
    }
   ],
   "source": [
    "classifier.show_most_informative_features(30)"
   ]
  },
  {
   "cell_type": "code",
   "execution_count": 22,
   "metadata": {},
   "outputs": [
    {
     "name": "stdout",
     "output_type": "stream",
     "text": [
      "correct=female   guess=male     name=Alleen                        \n",
      "correct=female   guess=male     name=Alyson                        \n",
      "correct=female   guess=male     name=Alyss                         \n",
      "correct=female   guess=male     name=Anabel                        \n",
      "correct=female   guess=male     name=April                         \n",
      "correct=female   guess=male     name=Ardelis                       \n",
      "correct=female   guess=male     name=Ardis                         \n",
      "correct=female   guess=male     name=Aurel                         \n",
      "correct=female   guess=male     name=Avril                         \n",
      "correct=female   guess=male     name=Babs                          \n",
      "correct=female   guess=male     name=Beau                          \n",
      "correct=female   guess=male     name=Beret                         \n",
      "correct=female   guess=male     name=Bill                          \n",
      "correct=female   guess=male     name=Blondell                      \n",
      "correct=female   guess=male     name=Brook                         \n",
      "correct=female   guess=male     name=Camel                         \n",
      "correct=female   guess=male     name=Carlin                        \n",
      "correct=female   guess=male     name=Carolann                      \n",
      "correct=female   guess=male     name=Charin                        \n",
      "correct=female   guess=male     name=Charmian                      \n",
      "correct=female   guess=male     name=Clem                          \n",
      "correct=female   guess=male     name=Cleo                          \n",
      "correct=female   guess=male     name=Corliss                       \n",
      "correct=female   guess=male     name=Cristin                       \n",
      "correct=female   guess=male     name=Danell                        \n",
      "correct=female   guess=male     name=Darb                          \n",
      "correct=female   guess=male     name=Daryl                         \n",
      "correct=female   guess=male     name=Dix                           \n",
      "correct=female   guess=male     name=Doloritas                     \n",
      "correct=female   guess=male     name=Dot                           \n",
      "correct=female   guess=male     name=Dyann                         \n",
      "correct=female   guess=male     name=Easter                        \n",
      "correct=female   guess=male     name=Elizabet                      \n",
      "correct=female   guess=male     name=Ethyl                         \n",
      "correct=female   guess=male     name=Flor                          \n",
      "correct=female   guess=male     name=Gail                          \n",
      "correct=female   guess=male     name=Gates                         \n",
      "correct=female   guess=male     name=Gilligan                      \n",
      "correct=female   guess=male     name=Gretel                        \n",
      "correct=female   guess=male     name=Guendolen                     \n",
      "correct=female   guess=male     name=Gwyn                          \n",
      "correct=female   guess=male     name=Hannis                        \n",
      "correct=female   guess=male     name=Ingrid                        \n",
      "correct=female   guess=male     name=Jaclyn                        \n",
      "correct=female   guess=male     name=Jan                           \n",
      "correct=female   guess=male     name=Jaquelyn                      \n",
      "correct=female   guess=male     name=Jennifer                      \n",
      "correct=female   guess=male     name=Jewel                         \n",
      "correct=female   guess=male     name=Jilleen                       \n",
      "correct=female   guess=male     name=JoAnn                         \n",
      "correct=female   guess=male     name=Jocelin                       \n",
      "correct=female   guess=male     name=Karylin                       \n",
      "correct=female   guess=male     name=Karyn                         \n",
      "correct=female   guess=male     name=Katheleen                     \n",
      "correct=female   guess=male     name=Katleen                       \n",
      "correct=female   guess=male     name=Kaylil                        \n",
      "correct=female   guess=male     name=Keren                         \n",
      "correct=female   guess=male     name=Kial                          \n",
      "correct=female   guess=male     name=Kristien                      \n",
      "correct=female   guess=male     name=Laureen                       \n",
      "correct=female   guess=male     name=Lilian                        \n",
      "correct=female   guess=male     name=Linell                        \n",
      "correct=female   guess=male     name=Lorain                        \n",
      "correct=female   guess=male     name=Lurleen                       \n",
      "correct=female   guess=male     name=Lynnell                       \n",
      "correct=female   guess=male     name=Mab                           \n",
      "correct=female   guess=male     name=Madlin                        \n",
      "correct=female   guess=male     name=Margalo                       \n",
      "correct=female   guess=male     name=Margit                        \n",
      "correct=female   guess=male     name=Maribel                       \n",
      "correct=female   guess=male     name=Mariellen                     \n",
      "correct=female   guess=male     name=Marlo                         \n",
      "correct=female   guess=male     name=Marris                        \n",
      "correct=female   guess=male     name=Maureen                       \n",
      "correct=female   guess=male     name=Max                           \n",
      "correct=female   guess=male     name=Meagan                        \n",
      "correct=female   guess=male     name=Meghan                        \n",
      "correct=female   guess=male     name=Mehetabel                     \n",
      "correct=female   guess=male     name=Michal                        \n",
      "correct=female   guess=male     name=Miran                         \n",
      "correct=female   guess=male     name=Moll                          \n",
      "correct=female   guess=male     name=Mureil                        \n",
      "correct=female   guess=male     name=Myriam                        \n",
      "correct=female   guess=male     name=Nan                           \n",
      "correct=female   guess=male     name=Nil                           \n",
      "correct=female   guess=male     name=Nitin                         \n",
      "correct=female   guess=male     name=Ragnhild                      \n",
      "correct=female   guess=male     name=Rakel                         \n",
      "correct=female   guess=male     name=Renell                        \n",
      "correct=female   guess=male     name=Robbyn                        \n",
      "correct=female   guess=male     name=Robin                         \n",
      "correct=female   guess=male     name=Rosalind                      \n",
      "correct=female   guess=male     name=Rosario                       \n",
      "correct=female   guess=male     name=Roselyn                       \n",
      "correct=female   guess=male     name=Sean                          \n",
      "correct=female   guess=male     name=Shannon                       \n",
      "correct=female   guess=male     name=Sibel                         \n",
      "correct=female   guess=male     name=Siobhan                       \n",
      "correct=female   guess=male     name=Starr                         \n",
      "correct=female   guess=male     name=Suellen                       \n",
      "correct=female   guess=male     name=Tamar                         \n",
      "correct=female   guess=male     name=Thomasin                      \n",
      "correct=female   guess=male     name=Tim                           \n",
      "correct=female   guess=male     name=Van                           \n",
      "correct=female   guess=male     name=Winnifred                     \n",
      "correct=male     guess=female   name=Aguste                        \n",
      "correct=male     guess=female   name=Ajay                          \n",
      "correct=male     guess=female   name=Alaa                          \n",
      "correct=male     guess=female   name=Alexei                        \n",
      "correct=male     guess=female   name=Andie                         \n",
      "correct=male     guess=female   name=Archie                        \n",
      "correct=male     guess=female   name=Bailey                        \n",
      "correct=male     guess=female   name=Barry                         \n",
      "correct=male     guess=female   name=Bennie                        \n",
      "correct=male     guess=female   name=Berke                         \n",
      "correct=male     guess=female   name=Brinkley                      \n",
      "correct=male     guess=female   name=Bucky                         \n",
      "correct=male     guess=female   name=Chaddy                        \n",
      "correct=male     guess=female   name=Chancey                       \n",
      "correct=male     guess=female   name=Charley                       \n",
      "correct=male     guess=female   name=Chase                         \n",
      "correct=male     guess=female   name=Christoph                     \n",
      "correct=male     guess=female   name=Claire                        \n",
      "correct=male     guess=female   name=Claybourne                    \n",
      "correct=male     guess=female   name=Cobbie                        \n",
      "correct=male     guess=female   name=Cobby                         \n",
      "correct=male     guess=female   name=Dane                          \n",
      "correct=male     guess=female   name=Danny                         \n",
      "correct=male     guess=female   name=Davide                        \n",
      "correct=male     guess=female   name=Demetre                       \n",
      "correct=male     guess=female   name=Derby                         \n",
      "correct=male     guess=female   name=Dewey                         \n",
      "correct=male     guess=female   name=Dmitri                        \n",
      "correct=male     guess=female   name=Dory                          \n",
      "correct=male     guess=female   name=Drake                         \n",
      "correct=male     guess=female   name=Duffie                        \n",
      "correct=male     guess=female   name=Elmore                        \n",
      "correct=male     guess=female   name=Elroy                         \n",
      "correct=male     guess=female   name=Emmy                          \n",
      "correct=male     guess=female   name=Emory                         \n",
      "correct=male     guess=female   name=Ferdie                        \n",
      "correct=male     guess=female   name=Fonsie                        \n",
      "correct=male     guess=female   name=Frankie                       \n",
      "correct=male     guess=female   name=Gale                          \n",
      "correct=male     guess=female   name=Garth                         \n",
      "correct=male     guess=female   name=Georgia                       \n",
      "correct=male     guess=female   name=Gordie                        \n",
      "correct=male     guess=female   name=Granville                     \n",
      "correct=male     guess=female   name=Hale                          \n",
      "correct=male     guess=female   name=Haley                         \n",
      "correct=male     guess=female   name=Harvie                        \n",
      "correct=male     guess=female   name=Herve                         \n",
      "correct=male     guess=female   name=Hewie                         \n",
      "correct=male     guess=female   name=Hillery                       \n",
      "correct=male     guess=female   name=Hugh                          \n",
      "correct=male     guess=female   name=Huntley                       \n",
      "correct=male     guess=female   name=Irvine                        \n",
      "correct=male     guess=female   name=Jean-Christophe               \n",
      "correct=male     guess=female   name=Jeffie                        \n",
      "correct=male     guess=female   name=Jeramie                       \n",
      "correct=male     guess=female   name=Jerrie                        \n",
      "correct=male     guess=female   name=Jessey                        \n",
      "correct=male     guess=female   name=Jose                          \n",
      "correct=male     guess=female   name=Joseph                        \n",
      "correct=male     guess=female   name=Josiah                        \n",
      "correct=male     guess=female   name=Kelly                         \n",
      "correct=male     guess=female   name=Kerry                         \n",
      "correct=male     guess=female   name=Krishna                       \n",
      "correct=male     guess=female   name=Laurie                        \n",
      "correct=male     guess=female   name=Lawerence                     \n",
      "correct=male     guess=female   name=Lazare                        \n",
      "correct=male     guess=female   name=Lemmy                         \n",
      "correct=male     guess=female   name=Lindy                         \n",
      "correct=male     guess=female   name=Lorne                         \n",
      "correct=male     guess=female   name=Mahesh                        \n",
      "correct=male     guess=female   name=Matty                         \n",
      "correct=male     guess=female   name=Mickey                        \n",
      "correct=male     guess=female   name=Micky                         \n",
      "correct=male     guess=female   name=Mika                          \n",
      "correct=male     guess=female   name=Mikey                         \n",
      "correct=male     guess=female   name=Moishe                        \n",
      "correct=male     guess=female   name=Montgomery                    \n",
      "correct=male     guess=female   name=Moore                         \n",
      "correct=male     guess=female   name=Moshe                         \n",
      "correct=male     guess=female   name=Murphy                        \n",
      "correct=male     guess=female   name=Nickey                        \n",
      "correct=male     guess=female   name=Nicky                         \n",
      "correct=male     guess=female   name=Normie                        \n",
      "correct=male     guess=female   name=Obie                          \n",
      "correct=male     guess=female   name=Ozzie                         \n",
      "correct=male     guess=female   name=Paige                         \n",
      "correct=male     guess=female   name=Partha                        \n",
      "correct=male     guess=female   name=Pierre                        \n",
      "correct=male     guess=female   name=Radcliffe                     \n",
      "correct=male     guess=female   name=Ramesh                        \n",
      "correct=male     guess=female   name=Randy                         \n",
      "correct=male     guess=female   name=Ray                           \n",
      "correct=male     guess=female   name=Reggy                         \n",
      "correct=male     guess=female   name=Rene                          \n",
      "correct=male     guess=female   name=Rodolphe                      \n",
      "correct=male     guess=female   name=Ronny                         \n",
      "correct=male     guess=female   name=Roy                           \n",
      "correct=male     guess=female   name=Royce                         \n",
      "correct=male     guess=female   name=Ruddie                        \n",
      "correct=male     guess=female   name=Sammy                         \n",
      "correct=male     guess=female   name=Samuele                       \n",
      "correct=male     guess=female   name=See                           \n",
      "correct=male     guess=female   name=Shea                          \n",
      "correct=male     guess=female   name=Shelley                       \n",
      "correct=male     guess=female   name=Sidney                        \n",
      "correct=male     guess=female   name=Skye                          \n",
      "correct=male     guess=female   name=Smitty                        \n",
      "correct=male     guess=female   name=Sparky                        \n",
      "correct=male     guess=female   name=Tally                         \n",
      "correct=male     guess=female   name=Tammy                         \n",
      "correct=male     guess=female   name=Thorpe                        \n",
      "correct=male     guess=female   name=Tremaine                      \n",
      "correct=male     guess=female   name=Tulley                        \n",
      "correct=male     guess=female   name=Uli                           \n",
      "correct=male     guess=female   name=Ulrich                        \n",
      "correct=male     guess=female   name=Uri                           \n",
      "correct=male     guess=female   name=Verne                         \n",
      "correct=male     guess=female   name=Vinny                         \n",
      "correct=male     guess=female   name=Voltaire                      \n",
      "correct=male     guess=female   name=Way                           \n",
      "correct=male     guess=female   name=Wayne                         \n",
      "correct=male     guess=female   name=Wesley                        \n",
      "correct=male     guess=female   name=Westbrooke                    \n",
      "correct=male     guess=female   name=Willi                         \n",
      "correct=male     guess=female   name=Yancy                         \n",
      "correct=male     guess=female   name=Zacharie                      \n",
      "correct=male     guess=female   name=Zachery                       \n",
      "correct=male     guess=female   name=Zechariah                     \n",
      "correct=male     guess=female   name=Zolly                         \n"
     ]
    }
   ],
   "source": [
    "for (tag, guess, name) in sorted(errors):\n",
    "    print('correct={:<8} guess={:<8s} name={:<30}'.format(tag, guess, name))"
   ]
  },
  {
   "cell_type": "markdown",
   "metadata": {},
   "source": [
    "Don't run this next cell till you're _completely_ done tweaking your `gender_features_2` code. "
   ]
  },
  {
   "cell_type": "code",
   "execution_count": 23,
   "metadata": {},
   "outputs": [
    {
     "name": "stdout",
     "output_type": "stream",
     "text": [
      "0.748\n"
     ]
    }
   ],
   "source": [
    "# Once you're done tweaking your code, run this one. \n",
    "print(nltk.classify.accuracy(classifier, test_set))"
   ]
  },
  {
   "cell_type": "markdown",
   "metadata": {},
   "source": [
    "So that estimate is your unbiased estimate of your classifier accuracy. "
   ]
  }
 ],
 "metadata": {
  "kernelspec": {
   "display_name": "Python 3",
   "language": "python",
   "name": "python3"
  },
  "language_info": {
   "codemirror_mode": {
    "name": "ipython",
    "version": 3
   },
   "file_extension": ".py",
   "mimetype": "text/x-python",
   "name": "python",
   "nbconvert_exporter": "python",
   "pygments_lexer": "ipython3",
   "version": "3.7.3"
  }
 },
 "nbformat": 4,
 "nbformat_minor": 1
}
