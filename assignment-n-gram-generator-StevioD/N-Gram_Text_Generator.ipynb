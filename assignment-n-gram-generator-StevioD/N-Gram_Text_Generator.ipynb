{
 "cells": [
  {
   "cell_type": "markdown",
   "metadata": {},
   "source": [
    "## N-gram Text Generation\n",
    "\n",
    "In this assignment we'll generate text via various n-gram models. See the README for full instructions. For this whole assignment use a tokenization that folds to lowercase and removes tokens where `isalpha` is False. "
   ]
  },
  {
   "cell_type": "code",
   "execution_count": 1,
   "metadata": {
    "scrolled": true
   },
   "outputs": [
    {
     "name": "stdout",
     "output_type": "stream",
     "text": [
      "*** Introductory Examples for the NLTK Book ***\n",
      "Loading text1, ..., text9 and sent1, ..., sent9\n",
      "Type the name of the text or sentence to view it.\n",
      "Type: 'texts()' or 'sents()' to list the materials.\n",
      "text1: Moby Dick by Herman Melville 1851\n",
      "text2: Sense and Sensibility by Jane Austen 1811\n",
      "text3: The Book of Genesis\n",
      "text4: Inaugural Address Corpus\n",
      "text5: Chat Corpus\n",
      "text6: Monty Python and the Holy Grail\n",
      "text7: Wall Street Journal\n",
      "text8: Personals Corpus\n",
      "text9: The Man Who Was Thursday by G . K . Chesterton 1908\n"
     ]
    }
   ],
   "source": [
    "import nltk\n",
    "import random\n",
    "from nltk.book import *\n",
    "from collections import Counter\n",
    "from collections import defaultdict"
   ]
  },
  {
   "cell_type": "code",
   "execution_count": 2,
   "metadata": {},
   "outputs": [],
   "source": [
    "# In this assignment, I recommend you use the random.choices function. \n",
    "# here are some examples of its use.\n",
    "values = \"a b c d e f g\".split()\n",
    "weights = [1,1,5,5,10,10,20]"
   ]
  },
  {
   "cell_type": "code",
   "execution_count": 3,
   "metadata": {},
   "outputs": [
    {
     "data": {
      "text/plain": [
       "['e', 'f', 'f', 'd', 'c']"
      ]
     },
     "execution_count": 3,
     "metadata": {},
     "output_type": "execute_result"
    }
   ],
   "source": [
    "random.choices(population=values,weights=weights,k=5)"
   ]
  },
  {
   "cell_type": "code",
   "execution_count": 4,
   "metadata": {},
   "outputs": [
    {
     "data": {
      "text/plain": [
       "[('g', 412),\n",
       " ('f', 199),\n",
       " ('e', 183),\n",
       " ('d', 89),\n",
       " ('c', 87),\n",
       " ('b', 17),\n",
       " ('a', 13)]"
      ]
     },
     "execution_count": 4,
     "metadata": {},
     "output_type": "execute_result"
    }
   ],
   "source": [
    "from collections import Counter\n",
    "\n",
    "Counter(random.choices(population=values,weights=weights,k=1000)).most_common(10)"
   ]
  },
  {
   "cell_type": "markdown",
   "metadata": {},
   "source": [
    "Now, write a function that generates text of a given length, using the probabilistic approach to glue one word to another. Have it start with a text and the desired length of the output."
   ]
  },
  {
   "cell_type": "code",
   "execution_count": 21,
   "metadata": {},
   "outputs": [],
   "source": [
    "def generate_unigram_text(text,length=10) :\n",
    "    \n",
    "    # tokenize the text here, \n",
    "    # 1. fold to lowercase\n",
    "    # 2. remove any tokens where isalpha is False\n",
    "    \n",
    "    words = [i.lower() for i in text\n",
    "              if i.isalpha()]\n",
    "    \n",
    "    # Now use random.choices to select `length` words and return them \n",
    "    \n",
    "    nonsense = random.choices(population = words, k = length)\n",
    "    \n",
    "    return(' '.join(nonsense))\n",
    "\n"
   ]
  },
  {
   "cell_type": "markdown",
   "metadata": {},
   "source": [
    "Now play around with the various texts, generating nonsense sentences from them. "
   ]
  },
  {
   "cell_type": "code",
   "execution_count": 22,
   "metadata": {},
   "outputs": [
    {
     "data": {
      "text/plain": [
       "'torrid with secured dismal the ahead to d than hole'"
      ]
     },
     "execution_count": 22,
     "metadata": {},
     "output_type": "execute_result"
    }
   ],
   "source": [
    "generate_unigram_text(text1)"
   ]
  },
  {
   "cell_type": "code",
   "execution_count": 23,
   "metadata": {},
   "outputs": [
    {
     "data": {
      "text/plain": [
       "'thousand my him cannot do they been s end else'"
      ]
     },
     "execution_count": 23,
     "metadata": {},
     "output_type": "execute_result"
    }
   ],
   "source": [
    "generate_unigram_text(text2)"
   ]
  },
  {
   "cell_type": "code",
   "execution_count": 24,
   "metadata": {},
   "outputs": [
    {
     "data": {
      "text/plain": [
       "'bored so the action dawnstar and wanna so pic hmm'"
      ]
     },
     "execution_count": 24,
     "metadata": {},
     "output_type": "execute_result"
    }
   ],
   "source": [
    "generate_unigram_text(text5)"
   ]
  },
  {
   "cell_type": "markdown",
   "metadata": {},
   "source": [
    "Now do the same thing, but have it work with bigrams. This is harder, since you have a \"current word\" you want to glue text onto. The parameter \"start\" will give you a word to start with. "
   ]
  },
  {
   "cell_type": "code",
   "execution_count": 25,
   "metadata": {},
   "outputs": [],
   "source": [
    "def generate_bigram_text(text,length=10,start=None) :\n",
    "    \n",
    "    uni_fd = FreqDist(text)\n",
    "\n",
    "    if not start :\n",
    "        # Select a starting point here. \n",
    "        words = []\n",
    "        for i in text:\n",
    "            if i.isalpha():\n",
    "                words.append(i)\n",
    "        start = random.choice(words)\n",
    "        \n",
    "    else :\n",
    "        if start not in uni_fd :\n",
    "            print(f\"The starting word, {start}, isn't in the text!\")\n",
    "            return(\"\")\n",
    "    \n",
    "    # here we'll need the frequency distribution for the bigrams   \n",
    "    \n",
    "    \n",
    "    results = [] # the results of your text generator\n",
    "    \n",
    "    results.append(start)\n",
    "    \n",
    "    bigram_list = list(bigrams(words))\n",
    "    \n",
    "    d = defaultdict(list)\n",
    "    \n",
    "    \n",
    "    for key, value in bigram_list:\n",
    "        d[key].append(value)\n",
    "        \n",
    "    key_list = list(d.keys())\n",
    "    value_list = list(d.values())\n",
    "    \n",
    "    count = 0\n",
    "    \n",
    "    #the loop will stop after the tenth word gets added to the results variable.\n",
    "    #it will use the start variable as the start word, randomly choose a value from the values list,\n",
    "    #add it to the results list, then assign a different value to the start variable, append that new value,\n",
    "    #and continue unitl there are 10 values in \"results\"\n",
    "    \n",
    "    while count < length - 1:\n",
    "        pos = key_list.index(start)\n",
    "        word = random.choice(value_list[pos])\n",
    "        results.append(word)\n",
    "        start = word\n",
    "        count += 1\n",
    "\n",
    "   \n",
    "    \n",
    "    # here you'll build up results by randomly selecting\n",
    "    # bigrams that \"chain\" on to the last word in results\n",
    "    \n",
    "    \n",
    "    return(\" \".join(results))"
   ]
  },
  {
   "cell_type": "code",
   "execution_count": 26,
   "metadata": {},
   "outputs": [
    {
     "data": {
      "text/plain": [
       "'by cords woven verdant land or Case While Daggoo was'"
      ]
     },
     "execution_count": 26,
     "metadata": {},
     "output_type": "execute_result"
    }
   ],
   "source": [
    "generate_bigram_text(text1)"
   ]
  },
  {
   "cell_type": "code",
   "execution_count": 27,
   "metadata": {},
   "outputs": [
    {
     "data": {
      "text/plain": [
       "'married till they were any curiosity on her four weeks'"
      ]
     },
     "execution_count": 27,
     "metadata": {},
     "output_type": "execute_result"
    }
   ],
   "source": [
    "generate_bigram_text(text2)"
   ]
  },
  {
   "cell_type": "code",
   "execution_count": 28,
   "metadata": {},
   "outputs": [
    {
     "data": {
      "text/plain": [
       "'was off your poor thing It Rang dont like xbox'"
      ]
     },
     "execution_count": 28,
     "metadata": {},
     "output_type": "execute_result"
    }
   ],
   "source": [
    "generate_bigram_text(text5)"
   ]
  },
  {
   "cell_type": "code",
   "execution_count": null,
   "metadata": {},
   "outputs": [],
   "source": []
  }
 ],
 "metadata": {
  "kernelspec": {
   "display_name": "Python 3",
   "language": "python",
   "name": "python3"
  },
  "language_info": {
   "codemirror_mode": {
    "name": "ipython",
    "version": 3
   },
   "file_extension": ".py",
   "mimetype": "text/x-python",
   "name": "python",
   "nbconvert_exporter": "python",
   "pygments_lexer": "ipython3",
   "version": "3.8.5"
  }
 },
 "nbformat": 4,
 "nbformat_minor": 1
}
